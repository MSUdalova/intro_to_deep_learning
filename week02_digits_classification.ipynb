{
  "nbformat": 4,
  "nbformat_minor": 0,
  "metadata": {
    "kernelspec": {
      "display_name": "Python 3",
      "language": "python",
      "name": "python3"
    },
    "language_info": {
      "codemirror_mode": {
        "name": "ipython",
        "version": 3
      },
      "file_extension": ".py",
      "mimetype": "text/x-python",
      "name": "python",
      "nbconvert_exporter": "python",
      "pygments_lexer": "ipython3",
      "version": "3.6.5"
    },
    "colab": {
      "name": "week02 digits_classification.ipynb",
      "provenance": []
    }
  },
  "cells": [
    {
      "cell_type": "code",
      "metadata": {
        "colab": {
          "base_uri": "https://localhost:8080/"
        },
        "id": "Fj0hEUB1NS1f",
        "outputId": "c98266f6-0bee-4ba3-a2a6-a4d64ddffa23"
      },
      "source": [
        "! shred -u setup_google_colab.py\n",
        "! wget https://raw.githubusercontent.com/hse-aml/intro-to-dl/master/setup_google_colab.py -O setup_google_colab.py\n",
        "import setup_google_colab\n",
        "# please, uncomment the week you're working on\n",
        "# setup_google_colab.setup_week1()\n",
        "setup_google_colab.setup_week2()\n",
        "# setup_google_colab.setup_week2_honor()\n",
        "# setup_google_colab.setup_week3()\n",
        "# setup_google_colab.setup_week4()\n",
        "# setup_google_colab.setup_week5()\n",
        "# setup_google_colab.setup_week6()"
      ],
      "execution_count": null,
      "outputs": [
        {
          "output_type": "stream",
          "text": [
            "shred: setup_google_colab.py: failed to open for writing: No such file or directory\n",
            "--2021-01-29 12:54:12--  https://raw.githubusercontent.com/hse-aml/intro-to-dl/master/setup_google_colab.py\n",
            "Resolving raw.githubusercontent.com (raw.githubusercontent.com)... 151.101.0.133, 151.101.64.133, 151.101.128.133, ...\n",
            "Connecting to raw.githubusercontent.com (raw.githubusercontent.com)|151.101.0.133|:443... connected.\n",
            "HTTP request sent, awaiting response... 200 OK\n",
            "Length: 3636 (3.6K) [text/plain]\n",
            "Saving to: ‘setup_google_colab.py’\n",
            "\n",
            "setup_google_colab. 100%[===================>]   3.55K  --.-KB/s    in 0s      \n",
            "\n",
            "2021-01-29 12:54:12 (54.8 MB/s) - ‘setup_google_colab.py’ saved [3636/3636]\n",
            "\n",
            "**************************************************\n",
            "inception_v3_weights_tf_dim_ordering_tf_kernels_notop.h5\n",
            "**************************************************\n",
            "cifar-10-batches-py.tar.gz\n",
            "**************************************************\n",
            "mnist.npz\n"
          ],
          "name": "stdout"
        }
      ]
    },
    {
      "cell_type": "code",
      "metadata": {
        "id": "E1HqRsWx0sk2",
        "colab": {
          "base_uri": "https://localhost:8080/"
        },
        "outputId": "100b94ac-6298-473a-d4e2-223db0e272dc"
      },
      "source": [
        "# set tf 1.x for colab\n",
        "%tensorflow_version 1.x"
      ],
      "execution_count": null,
      "outputs": [
        {
          "output_type": "stream",
          "text": [
            "TensorFlow 1.x selected.\n"
          ],
          "name": "stdout"
        }
      ]
    },
    {
      "cell_type": "markdown",
      "metadata": {
        "id": "i9QXstUa0sk8"
      },
      "source": [
        "# MNIST digits classification with TensorFlow"
      ]
    },
    {
      "cell_type": "markdown",
      "metadata": {
        "id": "buZo3Dk80sk8"
      },
      "source": [
        "<img src=\"https://github.com/hse-aml/intro-to-dl/blob/master/week2/v2/images/mnist_sample.png?raw=1\" style=\"width:30%\">"
      ]
    },
    {
      "cell_type": "code",
      "metadata": {
        "id": "pl22O2vA0sk8",
        "colab": {
          "base_uri": "https://localhost:8080/"
        },
        "outputId": "26ccf3f8-77cc-4e15-e053-c74cf2010327"
      },
      "source": [
        "import numpy as np\n",
        "from sklearn.metrics import accuracy_score\n",
        "from matplotlib import pyplot as plt\n",
        "%matplotlib inline\n",
        "import tensorflow as tf\n",
        "print(\"We're using TF\", tf.__version__)\n",
        "\n",
        "import sys\n",
        "sys.path.append(\"../..\")\n",
        "import grading\n",
        "\n",
        "import matplotlib_utils\n",
        "from importlib import reload\n",
        "reload(matplotlib_utils)\n",
        "\n",
        "import grading_utils\n",
        "reload(grading_utils)\n",
        "\n",
        "import keras_utils\n",
        "from keras_utils import reset_tf_session"
      ],
      "execution_count": null,
      "outputs": [
        {
          "output_type": "stream",
          "text": [
            "We're using TF 1.15.2\n"
          ],
          "name": "stdout"
        }
      ]
    },
    {
      "cell_type": "markdown",
      "metadata": {
        "id": "uIlBDTNq0sk9"
      },
      "source": [
        "# Fill in your Coursera token and email\n",
        "To successfully submit your answers to our grader, please fill in your Coursera submission token and email"
      ]
    },
    {
      "cell_type": "code",
      "metadata": {
        "id": "gSvaogdV0sk9"
      },
      "source": [
        "grader = grading.Grader(assignment_key=\"XtD7ho3TEeiHQBLWejjYAA\", \n",
        "                        all_parts=[\"9XaAS\", \"vmogZ\", \"RMv95\", \"i8bgs\", \"rE763\"])"
      ],
      "execution_count": null,
      "outputs": []
    },
    {
      "cell_type": "code",
      "metadata": {
        "id": "K8-VeVaJ0sk9"
      },
      "source": [
        "# token expires every 30 min\n",
        "COURSERA_TOKEN = \"DjBu4SAnWPVVC1z3\"\n",
        "COURSERA_EMAIL = \"msudalova@edu.hse.ru\""
      ],
      "execution_count": null,
      "outputs": []
    },
    {
      "cell_type": "markdown",
      "metadata": {
        "id": "fkFA9Xa60sk9"
      },
      "source": [
        "# Look at the data\n",
        "\n",
        "In this task we have 50000 28x28 images of digits from 0 to 9.\n",
        "We will train a classifier on this data."
      ]
    },
    {
      "cell_type": "code",
      "metadata": {
        "id": "jcAH-N6_0sk-"
      },
      "source": [
        "import preprocessed_mnist\n",
        "X_train, y_train, X_val, y_val, X_test, y_test = preprocessed_mnist.load_dataset()"
      ],
      "execution_count": null,
      "outputs": []
    },
    {
      "cell_type": "code",
      "metadata": {
        "id": "kR1jorrT0sk-",
        "colab": {
          "base_uri": "https://localhost:8080/",
          "height": 683
        },
        "outputId": "a968c796-66d2-4c8e-ddae-b4109455326e"
      },
      "source": [
        "# X contains rgb values divided by 255\n",
        "print(\"X_train [shape %s] sample patch:\\n\" % (str(X_train.shape)), X_train[1, 15:20, 5:10])\n",
        "print(\"A closeup of a sample patch:\")\n",
        "plt.imshow(X_train[1, 15:20, 5:10], cmap=\"Greys\")\n",
        "plt.show()\n",
        "print(\"And the whole sample:\")\n",
        "plt.imshow(X_train[1], cmap=\"Greys\")\n",
        "plt.show()\n",
        "print(\"y_train [shape %s] 10 samples:\\n\" % (str(y_train.shape)), y_train[:10])"
      ],
      "execution_count": null,
      "outputs": [
        {
          "output_type": "stream",
          "text": [
            "X_train [shape (50000, 28, 28)] sample patch:\n",
            " [[0.         0.29803922 0.96470588 0.98823529 0.43921569]\n",
            " [0.         0.33333333 0.98823529 0.90196078 0.09803922]\n",
            " [0.         0.33333333 0.98823529 0.8745098  0.        ]\n",
            " [0.         0.33333333 0.98823529 0.56862745 0.        ]\n",
            " [0.         0.3372549  0.99215686 0.88235294 0.        ]]\n",
            "A closeup of a sample patch:\n"
          ],
          "name": "stdout"
        },
        {
          "output_type": "display_data",
          "data": {
            "image/png": "[encoded data removed]",
            "text/plain": [
              "<Figure size 432x288 with 1 Axes>"
            ]
          },
          "metadata": {
            "tags": [],
            "needs_background": "light"
          }
        },
        {
          "output_type": "stream",
          "text": [
            "And the whole sample:\n"
          ],
          "name": "stdout"
        },
        {
          "output_type": "display_data",
          "data": {
            "image/png": "[encoded data removed]",
            "text/plain": [
              "<Figure size 432x288 with 1 Axes>"
            ]
          },
          "metadata": {
            "tags": [],
            "needs_background": "light"
          }
        },
        {
          "output_type": "stream",
          "text": [
            "y_train [shape (50000,)] 10 samples:\n",
            " [5 0 4 1 9 2 1 3 1 4]\n"
          ],
          "name": "stdout"
        }
      ]
    },
    {
      "cell_type": "markdown",
      "metadata": {
        "id": "nFjdYR0s0sk-"
      },
      "source": [
        "# Linear model\n",
        "\n",
        "Your task is to train a linear classifier $\\vec{x} \\rightarrow y$ with SGD using TensorFlow.\n",
        "\n",
        "You will need to calculate a logit (a linear transformation) $z_k$ for each class: \n",
        "$$z_k = \\vec{x} \\cdot \\vec{w_k} + b_k \\quad k = 0..9$$\n",
        "\n",
        "And transform logits $z_k$ to valid probabilities $p_k$ with softmax: \n",
        "$$p_k = \\frac{e^{z_k}}{\\sum_{i=0}^{9}{e^{z_i}}} \\quad k = 0..9$$\n",
        "\n",
        "We will use a cross-entropy loss to train our multi-class classifier:\n",
        "$$\\text{cross-entropy}(y, p) = -\\sum_{k=0}^{9}{\\log(p_k)[y = k]}$$ \n",
        "\n",
        "where \n",
        "$$\n",
        "[x]=\\begin{cases}\n",
        "       1, \\quad \\text{if $x$ is true} \\\\\n",
        "       0, \\quad \\text{otherwise}\n",
        "    \\end{cases}\n",
        "$$\n",
        "\n",
        "Cross-entropy minimization pushes $p_k$ close to 1 when $y = k$, which is what we want.\n",
        "\n",
        "Here's the plan:\n",
        "* Flatten the images (28x28 -> 784) with `X_train.reshape((X_train.shape[0], -1))` to simplify our linear model implementation\n",
        "* Use a matrix placeholder for flattened `X_train`\n",
        "* Convert `y_train` to one-hot encoded vectors that are needed for cross-entropy\n",
        "* Use a shared variable `W` for all weights (a column $\\vec{w_k}$ per class) and `b` for all biases.\n",
        "* Aim for ~0.93 validation accuracy"
      ]
    },
    {
      "cell_type": "code",
      "metadata": {
        "id": "ISHS7e7R0sk-",
        "colab": {
          "base_uri": "https://localhost:8080/"
        },
        "outputId": "09dd188f-8757-4bb3-a568-878991731757"
      },
      "source": [
        "X_train_flat = X_train.reshape((X_train.shape[0], -1))\n",
        "print(X_train_flat.shape)\n",
        "\n",
        "X_val_flat = X_val.reshape((X_val.shape[0], -1))\n",
        "print(X_val_flat.shape)"
      ],
      "execution_count": null,
      "outputs": [
        {
          "output_type": "stream",
          "text": [
            "(50000, 784)\n",
            "(10000, 784)\n"
          ],
          "name": "stdout"
        }
      ]
    },
    {
      "cell_type": "code",
      "metadata": {
        "id": "VH4sChnr0sk_",
        "colab": {
          "base_uri": "https://localhost:8080/"
        },
        "outputId": "1584207c-4398-48fc-efac-f6017c26f806"
      },
      "source": [
        "import keras\n",
        "\n",
        "y_train_oh = keras.utils.to_categorical(y_train, 10)\n",
        "y_val_oh = keras.utils.to_categorical(y_val, 10)\n",
        "\n",
        "print(y_train_oh.shape)\n",
        "print(y_train_oh[:3], y_train[:3])"
      ],
      "execution_count": null,
      "outputs": [
        {
          "output_type": "stream",
          "text": [
            "(50000, 10)\n",
            "[[0. 0. 0. 0. 0. 1. 0. 0. 0. 0.]\n",
            " [1. 0. 0. 0. 0. 0. 0. 0. 0. 0.]\n",
            " [0. 0. 0. 0. 1. 0. 0. 0. 0. 0.]] [5 0 4]\n"
          ],
          "name": "stdout"
        }
      ]
    },
    {
      "cell_type": "code",
      "metadata": {
        "id": "XVnJjx6M0sk_"
      },
      "source": [
        "# run this again if you remake your graph\n",
        "s = reset_tf_session()"
      ],
      "execution_count": null,
      "outputs": []
    },
    {
      "cell_type": "code",
      "metadata": {
        "id": "NnMGawkE0sk_"
      },
      "source": [
        "# Model parameters: W and b\n",
        "W = tf.get_variable(\"weights\", shape=(784, 10), dtype=tf.float32)  \n",
        "b = tf.get_variable(\"biases\", shape=(10,), dtype=tf.float32)"
      ],
      "execution_count": null,
      "outputs": []
    },
    {
      "cell_type": "code",
      "metadata": {
        "id": "qECTT4260sk_"
      },
      "source": [
        "# Placeholders for the input data\n",
        "input_X = tf.placeholder('float32', shape=(None, 784)) # tf.placeholder(...) for flat X with shape[0] = None for any batch size\n",
        "input_y = tf.placeholder('float32', shape=(None, 10))   # tf.placeholder(...) for one-hot encoded true labels"
      ],
      "execution_count": null,
      "outputs": []
    },
    {
      "cell_type": "code",
      "metadata": {
        "id": "kuxIugko0sk_"
      },
      "source": [
        "# Compute predictions\n",
        "logits = input_X @ W + b    # logits for input_X, resulting shape should be [input_X.shape[0], 10]\n",
        "probas = tf.nn.softmax(logits) # apply tf.nn.softmax to logits\n",
        "classes =  tf.argmax(probas, axis=1)    # apply tf.argmax to find a class index with highest probability\n",
        "\n",
        "# Loss should be a scalar number: average loss over all the objects with tf.reduce_mean().\n",
        "# Use tf.nn.softmax_cross_entropy_with_logits on top of one-hot encoded input_y and logits.\n",
        "# It is identical to calculating cross-entropy on top of probas, but is more numerically friendly (read the docs).\n",
        "loss = tf.reduce_mean(tf.nn.softmax_cross_entropy_with_logits(labels=input_y, logits=logits))     # cross-entropy loss\n",
        "\n",
        "# Use a default tf.train.AdamOptimizer to get an SGD step\n",
        "step = tf.train.AdamOptimizer().minimize(loss)# optimizer step that minimizes the loss"
      ],
      "execution_count": null,
      "outputs": []
    },
    {
      "cell_type": "code",
      "metadata": {
        "scrolled": false,
        "id": "oK00MuQG0slA",
        "colab": {
          "base_uri": "https://localhost:8080/",
          "height": 309
        },
        "outputId": "4ceea6d6-3a73-4750-dfbc-baba241e66d6"
      },
      "source": [
        "s.run(tf.global_variables_initializer())\n",
        "\n",
        "BATCH_SIZE = 512\n",
        "EPOCHS = 40\n",
        "\n",
        "# for logging the progress right here in Jupyter (for those who don't have TensorBoard)\n",
        "simpleTrainingCurves = matplotlib_utils.SimpleTrainingCurves(\"cross-entropy\", \"accuracy\")\n",
        "\n",
        "for epoch in range(EPOCHS):  # we finish an epoch when we've looked at all training samples\n",
        "    \n",
        "    batch_losses = []\n",
        "    for batch_start in range(0, X_train_flat.shape[0], BATCH_SIZE):  # data is already shuffled\n",
        "        _, batch_loss = s.run([step, loss], {input_X: X_train_flat[batch_start:batch_start+BATCH_SIZE], \n",
        "                                             input_y: y_train_oh[batch_start:batch_start+BATCH_SIZE]})\n",
        "        # collect batch losses, this is almost free as we need a forward pass for backprop anyway\n",
        "        batch_losses.append(batch_loss)\n",
        "\n",
        "    train_loss = np.mean(batch_losses)\n",
        "    val_loss = s.run(loss, {input_X: X_val_flat, input_y: y_val_oh})  # this part is usually small\n",
        "    train_accuracy = accuracy_score(y_train, s.run(classes, {input_X: X_train_flat}))  # this is slow and usually skipped\n",
        "    valid_accuracy = accuracy_score(y_val, s.run(classes, {input_X: X_val_flat}))  \n",
        "    simpleTrainingCurves.add(train_loss, val_loss, train_accuracy, valid_accuracy)"
      ],
      "execution_count": null,
      "outputs": [
        {
          "output_type": "display_data",
          "data": {
            "text/html": [
              "<img src=\"data:image/jpeg;base64,/9j/4AAQSkZJRgABAQEASABIAAD/2wBDAAIBAQEBAQIBAQECAgICAgQDAgICAgUEBAMEBgUGBgYFBgYGBwkIBgcJBwYGCAsICQoKCgoKBggLDAsKDAkKCgr/2wBDAQICAgICAgUDAwUKBwYHCgoKCgoKCgoKCgoKCgoKCgoKCgoKCgoKCgoKCgoKCgoKCgoKCgoKCgoKCgoKCgoKCgr/wAARCAEgA2ADASIAAhEBAxEB/8QAHwAAAQUBAQEBAQEAAAAAAAAAAAECAwQFBgcICQoL/8QAtRAAAgEDAwIEAwUFBAQAAAF9AQIDAAQRBRIhMUEGE1FhByJxFDKBkaEII0KxwRVS0fAkM2JyggkKFhcYGRolJicoKSo0NTY3ODk6Q0RFRkdISUpTVFVWV1hZWmNkZWZnaGlqc3R1dnd4eXqDhIWGh4iJipKTlJWWl5iZmqKjpKWmp6ipqrKztLW2t7i5usLDxMXGx8jJytLT1NXW19jZ2uHi4%2BTl5ufo6erx8vP09fb3%2BPn6/8QAHwEAAwEBAQEBAQEBAQAAAAAAAAECAwQFBgcICQoL/8QAtREAAgECBAQDBAcFBAQAAQJ3AAECAxEEBSExBhJBUQdhcRMiMoEIFEKRobHBCSMzUvAVYnLRChYkNOEl8RcYGRomJygpKjU2Nzg5OkNERUZHSElKU1RVVldYWVpjZGVmZ2hpanN0dXZ3eHl6goOEhYaHiImKkpOUlZaXmJmaoqOkpaanqKmqsrO0tba3uLm6wsPExcbHyMnK0tPU1dbX2Nna4uPk5ebn6Onq8vP09fb3%2BPn6/9oADAMBAAIRAxEAPwD9/KKKKACiiigAooooAKKKKACiiigAooooAKKKKACiiigAooooAKKKKACiiigAooooAKKKKACiiigAooooAKKKKACiiigAooooAKKKKACiiigAooooAKKKKACiiigAooooAKKKKACiiigAooooAKKKKACiiigAooooAKKKKACiiigAooooAKKKKACiiigAooooAKKKKACiiigAooooAKKKKACiiigAooooAKKKKACiiigAooooAKKKKACiiigAooooAKKKKACiiigAooooAKKKKACiiigAooooAKKKKACiiigAooooAKKKKACiiigAooooAKKKKACiiigAooooAKKKKACiiigAooooAKKKKACuN%2BOP7QHwm/Zx8JW/jT4veJ5dPtL7U4dN0u2stLub%2B91K9lDGO1tLO0jluLudlR2EUMbvtR2xhWI7KvFv2u/gP8VPiX4h%2BGfxl%2BBd14fl8X/CrxjPrWmaJ4tu57bTdYhudLvdMubaW4ghmktH8q9aSOdYZtrR7TGyu2ACjpH/AAUr/Y71rxm3w8tvHviCDW7fSodU1bTtR%2BHOvWkmi2EhuAt3qXn2SDTIAbWcNLdmFEKYYqWUGbwn/wAFH/2NfGfg/wAQ%2BOtM%2BLFza6f4Y0e11fVBrnhPVdMuJNPuXMdreWtvd2sU19bzyAxwy2ySpM5CRlmIB86vP2GPjP8AHW0/aRP7Qt74V8My/tB/CPTvBskfgrWLrUzo7RWusWsr%2BbcWtqZ1VNRiZDsXeyygogxuy9Y/Y2/at%2BM%2Btaz8UP2lPh38G9X1e0%2BE6eBtB8E6d4n1QaRrSy6jaXt5fXd2bBJ9PYmyg%2BzxQw3BtnDP50hIwAeyX/7fP7N2k%2BAbH4h6tdeOLSHVPED6Jpeh3Xwj8SR67e3yW5uXjh0dtPGoShYAZTIluUCKzFsA49P8JeOfDfjbwTY/EPRbi5i0rULBbyCTVNPnsZY4iu7MsFykcsDAfeSRVZSCGAIIr41tv2Gf2tJfgpJ4W8feGPCnjS%2Bh%2BIcut%2BC9B1n9ofxXb3fgOxOmxWoi0/xbHp7atcSGUXcreZDGBHeGENsjGfUvB/7Bmq%2BKfgJo3hb9pz46%2BOPEfj5PhtdeFtf8Q6T8Q9at9Muhc2tzbyTPpa3SWN5MiXTBbq4tmmdoopWKuibADc8Mf8FJP2MvF/h7xJ4s0b4tXK6Z4W8GXni6/vr7wlqtpFe6BaruuNU09p7VBqtogK5nsvPQmSMAkyIG4n40f8FdP2YfAf7M/wATf2gfhW%2Bs%2BM7v4b%2BDYfEjeGW8L6xps2r2Nw7R2t3avNYFrixlkRh9vgjmtkVWdnCqSPHfC/8AwSh%2BNC/BPxf8LPFnh3w9J4h/4UL4j8A%2BC/Hmo/tD%2BNvECSXGpWEdp5h0jVUkttGtpDDE8scEl0yeVGqFggz6P%2B1L/wAE5vih%2B0BYeKtE0Pxj4d0q2179le%2B%2BGlrLM87GDVpLiOWGdo1iANqNhBIbzBnhO9AHqkv/AAUU/ZZt/E3hrwJeav41tvEni7TpdQ0HwpefCTxLDq8tnFd/Y5LmSwk08XNvCkxG6SaNEVGWUkRsrmXwN/wUT/Y7%2BJGqarpXhD4tyXB0rQ9Q1lbufw1qVvaapp1iwS8u9NuZrdYdVhhYqHeyedVLqCfmGcXwR8APjz4x/apsf2oPjn4f8HeH5JPg5f8Ag/VNE8J%2BK7vVTBcy6tHcpJDcz6fZl4mgiUsTGjJIdoV1USHwGb9hz9pf4bfs8%2BF/Cnxo1rwIPCP7N3wP8SaB4L1PwrfXcmpeKd2hHTLe4vbeW2ii04JZozSQxS3QknZXDxqgQgH0D4U/4Kl/sL%2BNPBus/ELQ/jLdrouheDj4tutRv/BmsWcdzoIKB9Vs/PtEN/ZxmRBJPbCWOLcPMZc167a/GD4c3vxcuPgVZ%2BIxN4qtPDUGv3emRWsrCHTp55beGd5QnlL5ksE6ohfe3kyEKQjEfFX7I/7P3xC8WfBL4Q/Hb9t/Uvhlovww%2BG/7L9z4fgk07W5wmr6bqmnaWby%2B1X7VBDDpkEVppyq0CS3CZleRplWNVrsP%2BCK3wr8d6P8As76n8evit4tbxFrHjW%2Bg03w54hlgaOS%2B8I6JF/ZWiXBD8/6VDDNqhPd9WcgKCFAB9lUUUUAFFFFABRRRQAUUUUAFFFFABRRRQAUUUUAFFFFABRRRQAUUUUAFFFFABRRRQAUUUUAFFFFABRRRQAUUUUAFFFFABRRRQAV4jpH/AAUY/Y91K716z1P4pXnh5vDnhy58QahJ418I6roMc2k27pHPf2smpWsC31ujyRK0tsZUBljGcuufab2K5ms5YbO6EEzxMsUxj3%2BWxHDbT1wecd6/MTV/%2BCOX7cvxf1bwvrnxu%2BOOhvrfhrwfqFnqHijUPit4m8TjxDrf2zSr611E6XfRQ2Wk20lzpi%2BfYWQCiOTassgVAoB9sv8At/8A7MNr8NG%2BLGseIPFWlaW2uQaNY2eufDLX7DVNTv5kMkMFlptxYpe37SIGdfs8MgZUdgSEYjovAf7VnwP%2BI%2Bv2XhPw54h1SHV7/wAKT%2BJIdI1rwrqWmXaabDd/ZJZZYby3ikgdZ/kMMirL32bea8m%2BJ3wc/bd%2BMTfD342654N%2BFWh/EP4UeOptY8P%2BGbXxxqV/ouuWdxpN3plzHcXz6VDNYzFL2SSN0tbgRmIKfMEjYq/En4Dftwa/8ZfDv7TXgfRvhXaeLL74Yar4L8Y6FqXivUpLDSFuL%2BG6tb%2ByuE04SagYhG6yW8sVoJS4xLFjkA7jSf8Ago3%2ByB4j17wL4W8K/EbVdZ1P4k%2BDdK8W%2BDdO0TwPrN7PeaHqL7LXUZEgtGa1t92PMknEa24ZTN5QYE7Hw1/bc/Zu%2BK/xGufhP4Z8X6tZ6/b6Xc6nDZeJ/BmraIt/Y28iRz3dlLqNrBHfwRvLEHltmkRfMQkgMpPlH7Cn7CXxY/Zh1/4caz488QeGrs%2BDv2UvCPwxv30i5nlZtW0t5muZovMgj3Wrb02MxV22/NGmBXjXw0/4JV/tjeJ/ij4X8TftTfGGz1SLT/AHivwv408TQfF/xJrV54il1exS2/tO10y%2Bhj0/QjlSxtLRSi5UCZxGq0AfUvhP/gov%2ByP410WPxVoPjvXP7DuNV0vT9P8AEt78P9btdK1GXUr2OyspLS%2Bns0tryCW5mijFxBI8IMqFnCsCfS/C3xd%2BHnjX4geKfhd4X8Q/a9c8FyWcfie0S0mC2Ml1B9ogjMrII3doSshRGZkWSMsFEibvmHxx4E%2BIvhX/AIJ7eNPgR/wUM8T/AAq8EeAtB%2BGkWgW3xM8O%2BLbsM06RpbWupPaXVnAmmzLMLeSGCO4umM5REcnaG7X/AIJX/D74seG/2RNK%2BKv7RVglv8TvixfS%2BOviJCtu0X2e/v1jMNpsb5k%2By2MdlZ7TkgWuDQB9G0UUUAFFFFABRRRQAUUUUAFFFFABRRRQAUUUUAFFFFABRRRQAUUUUAFFFFABRRRQAUUUUAFFFFABRRRQAUUUUAFFFFABRRRQAUVj/ED4ifD/AOE3g6/%2BInxT8daN4Z8P6XEJNT13xBqcVlZ2iFgoaWaZlSMFmUZYgZIHeq978WfhXpvw0X40aj8S/D9v4ObSo9TXxZPrMCaYbGRFdLoXRfyvJZGVhJu2kMCDg0AdBXi/x68f/tF/8NF%2BBfgR8BfGfgrw%2Bmv%2BCvEuvavqfi/wXd60SdOu9Dt4YYY7fUrHyw39qSszMz58tAAvJPpnw5%2BJ/wANPjF4St/H3wj%2BIeheKdCu2dbTWvDmrQ31pMUYq4SaFmRirAqcHggg15P8RdaWz/4KVfCHRZFGL34J/ENkbvuj1bwacfkzH8KTaW5cISqO0ezf3asvf8IP/wAFC/8Ao6D4M/8Ahh9W/wDmoo/4Qf8A4KF/9HQfBn/ww%2Brf/NRXs1FMg8Z/4Qf/AIKF/wDR0HwZ/wDDD6t/81FH/CD/APBQv/o6D4M/%2BGH1b/5qK9mooA8Z/wCEH/4KF/8AR0HwZ/8ADD6t/wDNRR/wg/8AwUL/AOjoPgz/AOGH1b/5qK9mooA8Z/4Qf/goX/0dB8Gf/DD6t/8ANRR/wg//AAUL/wCjoPgz/wCGH1b/AOaivZqKAPGf%2BEH/AOChf/R0HwZ/8MPq3/zUUf8ACD/8FC/%2BjoPgz/4YfVv/AJqK9mooA8Z/4Qf/AIKF/wDR0HwZ/wDDD6t/81FH/CD/APBQv/o6D4M/%2BGH1b/5qK9mooA8Z/wCEH/4KF/8AR0HwZ/8ADD6t/wDNRR/wg/8AwUL/AOjoPgz/AOGH1b/5qK9mrz74geP/AIGfDQan4w%2BPvjjwp4f0861Fp9lqXjDVLa0g8w2kcqwRyXLKu8gSvtByQrHHBxM5wpxcptJLq3Zfe7I2w%2BHxGLrxo0ISnOTsoxTlJvsoxUpN6PRJvTY5r/hB/wDgoX/0dB8Gf/DD6t/81FH/AAg//BQv/o6D4M/%2BGH1b/wCaiq//AA1//wAE4P8Ao6L4I/8AhbaP/wDHaP8Ahr//AIJwf9HRfBH/AMLbR/8A47XN9fwH/P6H/gcP/kj2v9UuLP8AoXYj/wAJ6/8A8oLH/CD/APBQv/o6D4M/%2BGH1b/5qKP8AhB/%2BChf/AEdB8Gf/AAw%2Brf8AzUV2Hw08Sfs5fGjQpfFPwd1/wT4s0y3u2tZ9R8NXVnfwRzqqu0TSQFlDhXRipOQHU4wRXk/xB/bZ/ZO%2BEPxr%2BInwi%2BLHgfUNDtPhp4G07xT4h8WyfD%2B/uNKisrkXzMWuYLR4o/LSyJyz/vGdo49zwyqvTCcKkVKDTT6p3X3q6PFxGHxGEryo14ShOLs4yTjJPs4yUZJ6rRpPXY6j/hB/%2BChf/R0HwZ/8MPq3/wA1FH/CD/8ABQv/AKOg%2BDP/AIYfVv8A5qKib9pv9lC2m8Nx6x4T17SofFdxDb6Rf658H9bsLRZpr17K3jubm4sEhsnmuFCRLcPE0vmwsgZZomfmdd/bp/Yp8BWhPxJmsbe7a98VrDa%2BG/A%2BrawRZ%2BH9VOm6jdSi303fCkErRCZmXykLsUlmiUTtRidX/wAIP/wUL/6Og%2BDP/hh9W/8Amoo/4Qf/AIKF/wDR0HwZ/wDDD6t/81Fd9oEfwY8V3E9p4Xj8MajNbQwTXMNitvK8Mc6eZC7quSokT5lJxuXkZFeH/s/ftVaJ8aPilo3hfXP2btE0Pwx4503XdQ%2BGfiSHVUu59Wt9KvYbWY3dqbSMWLTJPHcwKktxuhD%2BYYXURkA7L/hB/wDgoX/0dB8Gf/DD6t/81FH/AAg//BQv/o6D4M/%2BGH1b/wCaiuN8WftVaJ4a%2BPGo%2BB7f9m7Q7nwJ4e%2BImi%2BA/E/jVtVSO8tNf1W0s7i0SLT/ALIVntc6lpsLzm5RlkuiBE4idq2/hD8V/FvxJ1/4weAtY/ZZ8JaX4k%2BGupx2uhafbeJ1uYNdE%2BnpeWjTTmwj%2BxM/mIjqEnEeSQ0mMUAa/wDwg/8AwUL/AOjoPgz/AOGH1b/5qKP%2BEH/4KF/9HQfBn/ww%2Brf/ADUV5pr37W/iiw/4J0a9%2B3Hon7H/AIPvdb8KWHiG98ReCJfGXk2sUOjXF9DdmHUf7MZ5iwsWMYNqm4yKG2AFqv8A7V37YHhb9mzWdVg079nzwzq%2Bm%2BD/AIYTfEHx7f6rr0WmPZ6JFK8biwj%2ByTC/uh5Mx8p2t4wfJUzAzLQB3n/CD/8ABQv/AKOg%2BDP/AIYfVv8A5qKP%2BEH/AOChf/R0HwZ/8MPq3/zUVjeL/jHq/gD47%2BDPA3ij9m7wa3gn4heJjoXhPxPpniYT6pNc/wBlXOoiaXTGsERLbZZzqXS6kdfkdowpYpQ8MfGv4hzfE7xD8DviD%2Byn8PNF8W2fgP8A4Svw9FZ%2BPDeadNbfaWthFqNydKjfTpC4BBSG5RlSYozmFgQDqP8AhB/%2BChf/AEdB8Gf/AAw%2Brf8AzUUf8IP/AMFC/wDo6D4M/wDhh9W/%2BaivKfCX7b%2BgeOf2avFP7Quh/Df4E2mn%2BC/GzaFrfinXPjAlr4MurcW1vL9usdeXSHF0gnu4rNla2iAuYrmLeTEPMPHf7c%2Bh%2BCvhT8J/jfdfs6eCLTSPihp%2BkS2fhbxB4wWw8WT3V7LCj2emaV/Z7rqkkSTxyEC4hJUklVHJAPVv%2BEH/AOChf/R0HwZ/8MPq3/zUUf8ACD/8FC/%2BjoPgz/4YfVv/AJqK4vwx%2B1ZpHiL452Hgl/2atDg8D%2BIPiFrfgTwt4yGrRvd3viDSrS8uLqOaw%2ByBbe1J0zUoUnFw7NJagGJBKjVm6d%2B2boXhr9mvx/8AG746fs3eF/DOteBfiCvg6Tw9p3iaG9s7vUZ7ixtrMtfz2dssEbzahAskjRbYVEjkuq5IB6N/wg//AAUL/wCjoPgz/wCGH1b/AOaij/hB/wDgoX/0dB8Gf/DD6t/81Fea3P7XOoXnh7wNaeBfgT8GfFHiTxzZ69qdjPoHxaSbwwNN0kQfaJI9Y/snM05NzGBD9mVRsnZpFWEscFP%2BCk/wf13TtH%2BKPgj4D%2BHp/hvL4b8Ea14i8S63rcVjqFlbeKZlj09rawFrIt2I96GYtPAR%2B8SITSRlKAPaP%2BEH/wCChf8A0dB8Gf8Aww%2Brf/NRR/wg/wDwUL/6Og%2BDP/hh9W/%2BaisfQPjpplj%2B0B8VvhH8YfgL4Y8NaJ8OfBOl%2BLbHxPZ6uL99S0q7n1aFpJ7b7HF9keM6RK%2BxZJ9yyrypBWud/Z5/aR8TftQfCbWfiP8ACH4AfBvU76GSw/sbw/Z/FyK6mtRPl5INae20qQaVdQxFGaCIXmXLIHwu9gDuv%2BEH/wCChf8A0dB8Gf8Aww%2Brf/NRVDwP44/as8HftWeHPgj8bviP8PfE2jeJvh74h1yGbwr8PL7Rbq0utNvtEt0VnuNXvkljdNUlJUIjBokIbGQbfwG%2BJug/Hn4B6t8TW%2BFmmeGtZ0bV9e0W/t9Muku4IdQ0q9ubKaS1vFiiM8JmtmKSGONscOiMGUSeOP8AlIX8L/8AsjPjz/07eEKAPZqKKKACvNv2sv2ldK/ZG%2BCOrfHrxH8L/FfivSdBhkudatPB8Nm9zZ2ccUk0124vLm3QxRpGchXLklQqMTivSa8Z/wCCgnwn%2BNXx8/Y/8efAb4CaN4Wu9e8b%2BG73QvO8X%2BI7nTLSyhuraWJrnzLeyu3kdCykReWoYE/vFwMgHYfHr46eH/gD4OtPE%2Br%2BGtY1691XW7TR/D/hzw9HA19q1/cvtit4ftEsMKnAeRnlljjSOJ3Z1Ck15P4j/wCCmvwg0PwPp3jPTfhT4/1maTSde1TxPoOkaZZPf%2BFLLRLz7Dq01%2Bkl2iE211uh8q1e4lnMbm3SdVLVsfGz4Y/tL/GbwV4S8UDwd4F0fxt4D8Y6Z4n0TSR40vLrTL%2BdIbi2vLOa7/syOWBDb3U6xzrbyHeUdogFKHxq9/YD/at8M%2BGtQ1/4c658P5/F3xA8NeNdI%2BIEer6tex2Gjya/rEmpxXVg6Wjveix8%2BaDyZUtvtQ2OZbYgqQD7U03UtP1nTrfV9JvYrm1u4EmtriFwySxsAyupHBBBBB96%2BePhN4q/bv8Ajro%2BveO/C/xv%2BEmgaXb/ABC8VaHpelX/AMH9Uv7iK10vXr/TIWluE8RQLLI8dmrsyxRrucgKABXs1v8ACPwxF8H7P4Jvf6xHpFnodvpSXGma5dafeiGGNY1ZLq0kimhfCD543U9eea8e/Yc8O6f4V/ZSvfB%2BmXN/LZ2nxp8cWKSalqtxe3MsP/CeatGRLcXDvNO7JkNJI7O5JLMSSaAOj/4Qf/goX/0dB8Gf/DD6t/8ANRR/wg//AAUL/wCjoPgz/wCGH1b/AOain6/%2B1B/wT98Ka7e%2BFvFP7RHwc03U9Nu5LXUdO1DxdpUM9rPGxSSKSN5QyOrAqysAQQQRkVU/4a//AOCcH/R0XwR/8LbR/wD47XK8dgU7OrD/AMDj/wDJHvQ4V4pqQU4ZfiGmk01QrtNPVNNUGmmmmmm00002mmWP%2BEH/AOChf/R0HwZ/8MPq3/zUUf8ACD/8FC/%2BjoPgz/4YfVv/AJqKfoH7UH/BP3xXrtl4W8LftEfBzUtT1K7jtdO07T/FulTT3U8jBI4o40lLO7MQqqoJJIAGTV79qv4l/Cr9lD9m/wAa/tJeKfhcuraf4K8PXGq3Wm6RogmuLlYlzsRY42IycZcjai5dyqqzDWlXoV03TmpW7NP8mzz8dleZ5XOMMbh6lJyV0qkJ021tdKcINq%2Bl0mr6XvoZ3/CD/wDBQv8A6Og%2BDP8A4YfVv/moo/4Qf/goX/0dB8Gf/DD6t/8ANRVDSf2s/wBj/XPG8vw10vw1r8viG28OLr2oaL/wprXVutPsHju3iluo208NatL9huVijmCSTPGI41d3RWdpn7Tn7MHiaTw7/wAIrplgh1nx1N4VvbDxL4S1HR9Rsb6PRrrVzC1lc2AmSU2tusyrcLbxvDJ5iysxijm1OEu/8IP/AMFC/wDo6D4M/wDhh9W/%2Baij/hB/%2BChf/R0HwZ/8MPq3/wA1FUPgp%2B1/%2Bwv%2B0Fo03iP4beJtL/s6Lw/p%2Bupf%2BIvCN3osFzpd8zLa3sEmo20C3NvI6lBLEXUPhCQxAq7%2B0b8RG%2BFev%2BD/AIafCD4AeGvF3jPxte3iaVpetaqukWMFrZ2rXFzcz3SWd06AfuYlVYXLSXEediB3UAd/wg//AAUL/wCjoPgz/wCGH1b/AOaij/hB/wDgoX/0dB8Gf/DD6t/81Fc9r/7Unwtg/Yt8Nftf%2BE/gpZXg8Xjw7b6N4d1QwWfkX%2BsX9pp8EF3ciORbeOK5vEWaVVk2rHIUWQ7VbirX9txfEV9ZfCzwT%2BzN4CvPiUni7xBoHiLRr7xyttoWnT6Pa293c7NUGmvJOzQXlo6Rm0jb5pvM8oQOaAPVv%2BEH/wCChf8A0dB8Gf8Aww%2Brf/NRR/wg/wDwUL/6Og%2BDP/hh9W/%2BaivLvFv7Y2r3fwf%2BE/7RnwL/AGWvAPinwT8XJPC0GgjVvGsmnayJ9ZmiUotpFpFzBIttBI1xI32lfkt58AbAW6K8/aUg0r9rt/2TLr4H/DbU9UvNI1HUNItfC/jpL7V7SG3hWWCbV9PfTov7Lt7jcsaTedOvmPGoDbsgA6//AIQf/goX/wBHQfBn/wAMPq3/AM1FH/CD/wDBQv8A6Og%2BDP8A4YfVv/moqp%2Bz38Tr74k/E/xr8D/jF%2Bz14R8M%2BKfBVhpGoXg8Ma8Nb06a21EXfkqLiWxs5EuENnKZIWh%2BVJIHDsJRj1zwYNmhmBSdkN9dxRAnO1EuZFVfoFAA9hQB5d/wg/8AwUL/AOjoPgz/AOGH1b/5qKP%2BEH/4KF/9HQfBn/ww%2Brf/ADUV7NRQB4z/AMIP/wAFC/8Ao6D4M/8Ahh9W/wDmoo/4Qf8A4KF/9HQfBn/ww%2Brf/NRXs1FAHjP/AAg//BQv/o6D4M/%2BGH1b/wCaij/hB/8AgoX/ANHQfBn/AMMPq3/zUV7NRQB4z/wg/wDwUL/6Og%2BDP/hh9W/%2Baij/AIQf/goX/wBHQfBn/wAMPq3/AM1FezUUAeM/8IP/AMFC/wDo6D4M/wDhh9W/%2Baij/hB/%2BChf/R0HwZ/8MPq3/wA1FezUUAeM/wDCD/8ABQv/AKOg%2BDP/AIYfVv8A5qKP%2BEH/AOChf/R0HwZ/8MPq3/zUV7NRQB4z/wAIP/wUL/6Og%2BDP/hh9W/8Amoo/4Qf/AIKF/wDR0HwZ/wDDD6t/81FezUUAeM/8IP8A8FC/%2BjoPgz/4YfVv/moo/wCEH/4KF/8AR0HwZ/8ADD6t/wDNRXs1FAHjP/CD/wDBQv8A6Og%2BDP8A4YfVv/moo/4Qf/goX/0dB8Gf/DD6t/8ANRXsrukaGSRwqgZLMcACuX8T/HH4K%2BCUMnjP4weFtIVfvNqniC2twP8Av44qJ1KdNXm0l5tL82jfD4XFYufJQpym%2B0Yyk/ujGT/A4L/hB/8AgoX/ANHQfBn/AMMPq3/zUUf8IP8A8FC/%2BjoPgz/4YfVv/morO8a/8FPv%2BCe3gFGbX/2v/Asuz7y6Rraaiw9ttp5hz7VwTf8ABan9iHVmK/Da58d%2BNOcIfC3w81GYOf8AZ82KPNcFTOcppS5ZYiF%2B3Mm/uTkz67B%2BG3iFj6XtKGU4lw/mdGpCP/gVSNKP3tHp3/CD/wDBQv8A6Og%2BDP8A4YfVv/moo/4Qf/goX/0dB8Gf/DD6t/8ANRXmI/4Kn%2BIdf%2BX4cf8ABN79o/VQf9XcX/gBLC3k9xJLMePwo/4bk/4KAa1z4L/4JHeKZw33DrnxO0rTT%2BIkVsVn/beXP4ZSl/hhUf5QOv8A4hhxlD%2BPTpUv%2BvuKwdP/ANKxTf4Hp3/CD/8ABQv/AKOg%2BDP/AIYfVv8A5qKt/srfEb40%2BMNY%2BKHgT46a/wCF9W1TwD8QotDs9V8J%2BGrnSbe6tZdB0fU1Z7e4vbxlkWTUZULCXaVjQ7VOc%2BTf8NG/8FcNX507/gnB4Q0fPQat8X7W42/XyIxn8K6H/gnZq/xl13XPjzqv7QPhHR9B8XzfGaD%2B1tJ0G/a6tLfHhHw2IgkrAF8wiNm9GZh2row2PpYqo4whNaXvKEor75W18jx874Sx%2BQ4WNfEYjDzu%2BXlpYmjWmtG7uNJytHSzle12l1PpOiiiu4%2BXCiiigAooooAKKKKACiiigAooooAKKKKACiiigAooooAKKKKAOV%2BN3iLw94S%2BE%2Bu%2BIvFOhapqdla2RaSy0Xw1d6xdSOWAj8qzs4Zp5mDlTiONiuN3AUkfPP7JXx30z4T/APBLr4fXfiX4B/FLVNZ8AfBbRU1XwL/wqXWotWub%2Bwsre3eygtrq0jMs/wBpTCAcEDzQfLUyD6wooA8A/wCCd1hdXvwu8U/FPxPZ6vaeK/H/AI6uPEPjTT9S8FaroUFhqD2dnbpaWkGqWttPPBDa21pEbrywtxNHPLhGd408/wDitN8U9B/4LG/AdfG/jXw/qGi6z8NfiPB4Y0/SvDU9ldWMay%2BGpZFuriS9mS8ZjGhVo4bcLtbKvuG36/r42/bD1c6X/wAFjf2MoC2FvvDHxQt3P/bhozgfmgrmxk/Z0ebzj%2BMor9T3OHcP9bzP2X/Tus//AAGhWl/7afZNFFFdJ4YUUUUAFFFFABRRRQAUUUUAFFFFABXE%2BK/hF8J/jRBq/hb4xfDDw74s0y38QRXUGneJtFgv4I51soUWVY50ZQ4V3UMBkB2GcE121eT/AB3/AGrfgF%2Bx94a1H4l/tF%2BPf%2BEd0S%2B8Vw6Za3v9l3V3vun09JVj2WsUjjKQyncVC/LjOSAccRPD06EpV2lBLXmta3nfS3qNY%2BWVP63Gs6Tp686k4OPS6kpRcd91Jb76if8ADA/7Cv8A0ZZ8Jf8Aw3Omf/GKP%2BGB/wBhX/oyz4S/%2BG50z/4xXkn/AA/N/wCCWX/R0X/lk65/8hUf8Pzf%2BCWX/R0X/lk65/8AIVeL9e4V/wCflD/yn/kaf8RSxP8A0PZ/%2BFlX/wCaD6S%2BGnwi%2BE/wX0KXwt8Hfhh4d8J6ZcXbXU%2BneGtFgsIJJ2VUaVo4EVS5VEUsRkhFGcAV4r%2B0r%2Bwv4r%2BPHi74lan4f%2BM%2Bm6Fo/wAVfhfYeEPEunXvhCS%2BuIWspdTktru2nW9hVBnU5BJE8Um8RJteMlifSf2aP2rfgF%2B2D4Eu/iX%2Bzp49/wCEi0Sx1eTTLq9/su6tNl0kUUrR7LqKNzhJojuClfmxnIIGP8Sv2y/hh8K/FniXwL4l0HXn1jw5L4Yjj0%2B1tYGk1b%2B3799O09rTdMocG7imicuY9nkux%2BQBj7WHnh6lCMqDTg1py2tbytpb0M3j5Zq/rcqzquprzuTm5dLuTlJy23cntvoeVftff8Ex5f2rPj1b/GW5%2BKXh2zihl8MTW8ev/DtNY1LR5NH1Y6gRpN693GNNS7yIrjbC7uFBDjAUbHh3/gnYug67qutn4vib%2B09B%2BJmm%2BX/wj23yv%2BEu8RQ6zvz9oOfsnleRt48/dvzFjYea%2BPX/AAVj%2BHfg7w38e/A3w00q3j%2BJfwj%2BEvi3xfpOma3rWk6haagdFh%2BczQ6XqU11bJ50trmG6W0mdJjsGUk8vvNW/bw0Hw/8R/Enwp034deK/GviXT/iBc%2BH9L8M%2BE9Gs4Low22iaZql1cmW81BIZYYl1GEGVmgdnnjhSB2USS7CPVPgz8PvEfws8CaR8O9T8U2WqWGg%2BH9O0zTZINJe2mP2e2WGSSVjPIr72QMqqqbAdpMn3q8c%2BDv7Cvjn4P8AjWz8QWXx00zUNM8FaF4i034RaNdeDHUaENWu4rlm1CRb4HUxbiCK3iWMWZ8jzA7PIwmXsv2IP2kdU/ae/Zl%2BHnxd8WaObPXPFvgHTfEWoxWOiXlvYRm6QnZFJMGUMCrZhMjSoCpcAMpPnfgn9sb42a98edBl1bTfCw%2BG3jH4xeJPhtoOn2%2Bm3K61Z3%2Bj2mqSvqM901yYZYZZ9Ev4hbrboyLLbuZX%2BdQAbnij9hvxB4j%2BOl/43X4yW0HgfxB8QtE8eeKfBn/CMFru88QaVaWdvayQ3/2oLb2pOm6bM8Bt5HaS1JEyiVxV/wCEv7OH7S/w3%2BNnxb%2BLmqftBeBdSh%2BI2y40bTLf4XXtu2jXlvaxWllJNKdakF5EkMQ82JUt2lclkkgHyVyn7TX7Y3xt%2BFfxT8Yv8PNM8LN4N%2BE2i%2BG9T8d22s6bczajrEeqX1xFNHYzR3Mcdo1ta2/nhpIrgTySiLEIUyHi/DX/AAUO/aF139pnxH8I4/Cugy2lrf8AjWx0nR/%2BEM1SFo20UP8AZJodae4Njrc1ztRpdPs41uLTzZFlIa1lyAdTa/sGftKH9gDx5%2BxHqn7UfgeW88bR%2BIbMeLbf4SXkcVlYa1Ldy3kf2M64xkmV72bypfPVUVUDxSEEtsftKfsJ%2BNf2t/hd4e%2BF3xy8bfC/U0g0m60/xRrf/Cm2k1Dy7jEcsmiTXOqTHRJmt8xmVvtbBtsi7CoFVf2Vv2g/2lP2jfgTfSH4w%2BAtM%2BJ1lDpdxr2j698Edf0L/hFVuIBLJHdaXqGqJdXQYrMsVwssEL%2BU5G/YwrzbxF/wUo%2BONp8HvAfjK58RfDLwnH4ls/GlzH8QPEuhX82g%2BJG0bUYrXTLfTYEvYpIpNYt5GvbYNPcN5UDiJLzIcAHtmkfsp/Gyw/bNuP2mdU%2BOPhHVPDsGmx6R4W8I3/w6uTd%2BGdL8pPtEFlepqqwpLcTosk1w1ozukcUPCRLWb%2Bzv%2Byf%2B1V8El8e%2BIvEn7TngLxP4v8cXTX03i%2Bf4SXsFz9qWT/Rop1OuSLLY29uWgitIfs%2B0EyeZ5jyvJ574Q/4KiJ8YvjD4S0Xwj4v0DwT4XvfDngzVdZPifwHq2ry3c3iGNLi3sft1pNDZ6MTFJBDDPd%2BYLi5nMaRfuSJLPwF/bx/aD%2BL/AO1Xq3wJvdM8M2dtNN40tdKtrnwbqlomnS6NqSWdnKmrS3Js/EHnowlngsEjksyTFMyvGwIB6V4K/Zl/aZ%2BHGmeLvEfg79o3wT/wmnj7xmNe8V6hqXwruZdGKrptrp6QWmnx6xHLA3l2cDtLJdzF3MmRtKLHg61%2BwV8T5/2dfDX7H3h79ovSrX4c6b4d0/TPEAvfAbz65dyW9z58k9jepfxwadu2xrEv2Sb7P5YMZyF2637P/wAXf2nvjT%2ByvqfjDW/iR8OPD3jbw/8AEDxVoWr%2BIZPA19Poj22ja9qGnectidWjmiLxWiSEtdsFYucEEAcF4c/a0/bOu/2QvgZ%2B05rsvw7ik8e%2BOvD9r4q09vBuowNdaJruv2llp0lpG2pM1hcrYXkc8vnNcgSgoEAzgA77wl%2Bw5rnhr48ad44ufjFBc%2BBPD3xE1rx54Y8FL4aMd5aa9qtpeW928uofaSs9rnUtSmSAWyMsl0CZXESLXLaN/wAE9vjD4g%2BFfxJ%2BGvx4/aB8F%2BIz42%2BImneOtFutD%2BFdzp0Wk63ZXtlewmaG41i7F7a%2Bfp1oTBuhZk85TIfMBTtfjr8Zv2gvg78f/AmkWHiDwRq3hnx34zttC07wRF4cvF8QNAbV5bzUVvhemHy7bY0zxm0C%2BUoXzhI6A%2BbfFD9t79o74LfFH4qfD%2B/sfDHi1vCPwf8AEfjTRVl8Ean4TihubB7X7LZfbdSvJbfWYpUum867s/LjtWt1WUI11EqgG9rf/BPrxzrvwx1vwxq/xF%2BGGteIPF3xBufF3ifU/FnwUXVNNt72S0gtI5dK06bUsWE0UdtEwlllut0rSu6t5hAPHX/BMbwF4us/hh8NbV/BUXgL4Y%2BH9C0jTk1P4dpe%2BKmttLlSRLeDXHuh9lt51ggjnjW1Z3Xz8SoZQY/MbL/gpT%2B0RL8NtQulj0S5vrf4tab4WXxKfgp4jtb2CyutEbUTcHwbLdnWZ5BMq26rHIDJFI92q%2BTbyFsX4h/8Fd/i18PPgbo/xx8ZXPw58NWln8I7jxrd2Wr6ddyy%2BO7i2vLyKfRdHC3iGwvkgtElkhmF3LbvfxRyx/uJnoA%2Bjbn9kj4teJP2pvH3xj8f/GTwlqXgb4gfD%2Bz8G6l4Itfh/dW9/Hptq%2BqSQkakdVdGlL6tcCRvsgDIkaqsZDO3A6T/AME4vj74V%2BGfiDw54D/bD0nw94ovvh14f8A%2BHfFOh/DN7UaX4e0uedwJII9TDTX8sVzNF9qilt0g3B4IImzmK6/4KL%2BK9C/bMtvgj4q1zwZaaZqPxRTwbY%2BAv7Luv%2BEoFrLpP2y38RNMbnyzYy3AEAX7KEAkH%2BkmVTAfSfgB8Zv2gr79pbxV%2Bzn8Z/EHgjxQ%2BgeEdO1m81vwJ4cvNMi0W6upp0TTLpLm9u/OleKITo6tE3l/M8KiSJmAOs%2BFXws1r4I/syp8J9YuvC0i6DoE9nYR%2BDPC82j6fDapEwijjtp7y8dSq4DMZmLtlsDNYvjj/lIX8L/%2ByM%2BPP/Tt4Qr1Lxz/AMiTrH/YKuP/AEW1eW%2BOP%2BUhfwv/AOyM%2BPP/AE7eEKAPZqKKKACiiigAooooAK8F/Y//AOTetX/7L345/wDVgarXvVeC/sf/APJvWr/9l78c/wDqwNVoA6zX/wBib9jLxXrt74p8U/sj/DHUtT1K7kutR1HUPAOnTT3U8jF5JZJHhLO7MSzMxJJJJOTVT/hgf9hX/oyz4S/%2BG50z/wCMV534/wD%2BCyn/AATc%2BF/jvW/hp46/aO%2Bw634d1e50zWLL/hENYl%2Bz3VvK0Use%2BO0ZH2ujDcrFTjIJHNZH/D83/gll/wBHRf8Alk65/wDIVeDPG8MKbUp0b3d7%2BzvfrfTe97mn/ETcTQ/dLPJx5dLfW6qtbS1vrCta1rWVrWsrWXs2gfsTfsZeFNdsvFPhb9kf4Y6bqem3cd1p2o6f4B06Ge1njYPHLHIkIZHVgGVlIIIBByK1v2mvgnZftJ/s6eO/2e9Q1%2BXSYfG/hHUNDfVYIBK9n9qt3hEwQkByhcNtJAbbjIzmvGvAP/BZT/gm58UPHei/DTwL%2B0d9u1vxFq9tpmj2X/CIaxF9ouriVYoo98loqJud1G5mCjOSQOa9x%2BOvxh8Ofs%2B/B7xH8b/GWmajdaN4V0qXU9ZTSoUknis4hunmCu6BljjDysM52xttDNhT6GBrZbWhJ4OUGk9eTltfz5UtbdyZcSVOJP3s8a8TyaXdWVXlvra8qlS197Jq%2B9up5H4i/Ym%2BIXj/AEH4uy%2BPfj7axeJPi38O9N8M32teE/Cs2mw6bJZjUQtzFFJfTyMji/AaIzA4ibEg8wbOG%2BCP/BKaL4ReIofE0PxJ8IWG34uDxy%2Bg%2BAvhfHoGkQMPCN54cNnbWqXkphDfahdtKzyMzoykfOHT0X4z/wDBRD4O/BbS/F2uap4b1PULHwV4ts/DesaiPEGg6VaPf3GmxaiEhuNX1Kzhk2QTwBgH375gqK%2ByQpyNr/wUd0nxT4%2Bjv/BNxaXHgLXPBnwk13wjqsWhST3l1/wmHiDVtNKzI93CscYis7MqwBeBpJnZLnCwV3EnV/A39ijxD8Ao/Al34R%2BLllc3/gb4G6V8OreXUPC7tDd/Y5IGN80aXasu9YWAhDnYXB8xtu1us/aN%2BAXjj4qeIPB/xM%2BD/wAT9O8I%2BM/BN7ePpWqa14afV7Ge1vLVre5tp7VLq1dwf3MqssyFZLePO9C6N5h4N/4KNH4mftFeD/BHhD4P%2BJrLwD4j8FeLNftPFmqaEs7eIYdJuNOhjn0uOyuZpzG/2qVvKnt0nmDQNChBOfSf2pPjR8QPh7o3gXwt8HE0iHxR8SfG9v4d0LUPE%2Blz3FlpubK81Ce5ntY5reWbba2FwFiEsRMjICyjNAFPw7%2ByxrHgL9l21/ZW8GeKfC%2BoaHpngew0Kx/4TvwS2sR3k8e4XdzqEC3kEd3HcJtzAgh2OZG3urqied2f/BNeLw3%2Bzy/wX8I3vwke81bxlN4k8Rz%2BJvgfDqOjJdvAlvEdM0kX8UenG3ghtooC8lxtSD5xKzs56HSv2uvim/7BPjX9o9/h3Zax448C/wDCV6ZfaJo8NwLPUNT0PUr7TZZoYwZJ1t5ZLIziIGSVY32Zdxk8n8Ef2zPiP8evB/xM0fwV%2B018ILq/%2BGGoWV3qHxS0vwNe33hnUdHn083TNHbJrKsksMiTxvIt7NGPIOVDs0cQB6R4V/Yo8J%2BCr34G6J4f8V3H/CJ/AnQLm18P6BeWolmvdQOnx6ba6jLcbgN8VnJqKFfLPmPfl9yeXtePxV%2Bzb8e/Hnxw0n4t%2BLvj94Y%2By%2BC7jWbr4e6bpPw7mt57W4vbSa0jGo3L6nINQgiimLGGKO0EskcTsQY1x4BP/wAFJvj7ovwv%2BEmm/FHxF4K8D%2BMvGfwtu/iB4x1y6%2BFeu6zYaPpnnwi2ibTLG%2BM9oFiuVa6u57vyLZoCG3ecmz1XRP2svinL%2B3Dqvwa8b%2BMfD/hvwMdZsrHwML74Va058XedokN632XxF9sXTFmFw86rbiF5WS2cAEneoB1v7EP7Mvxa/Zf8F6v4Z%2BLXxj8N%2BO9S1nUhqmp%2BKNL8D3Gkajq2pSAi6vL95tSvFuHcLAkaRLBHbxQLFGnlrGkfrPg//kEzf9hW%2B/8ASuWtSsvwf/yCZv8AsK33/pXLQBqUUUUAFFFeV/H79t79kz9l6J/%2BF6/Hrw9oN0ibv7KkvPPvmGOq2sIeZh7hMc1lWr0MNTdSrJRiuraS%2B9tHfluVZpnOLjhcvoTrVZbQpwlOT/7djGT%2Bdku7R6pRXyIn/BS341fGZtn7Fv8AwT6%2BIXjWzf8A1XifxhND4Z0qVT/y0hkutzTqOuAFbtipB4b/AOC0HxZPmat8Sfgz8JbKT/Vx6Ho91ruoxD/bNwRbsR/s8V539sYep/u8J1POMHb/AMClyR%2B5s%2Bzfhvm%2BD/5G%2BKw2C7xrYiHtF60aP1iqn5SjB%2BSeh9b1znxC%2BMPwk%2BElj/afxV%2BKXh3wzb7dwn8Qa3BZoR65mdRXzWf%2BCavx0%2BIQx%2B0d/wAFN/jB4hjfm5svB8lt4atZ/VWjtlfKH0BH1ro/h7/wSH/4J6fD6%2BOtSfs76f4j1J23XOpeNL241iS4b%2B863TvGT9EAo%2Bs5vV/h4dQ85zX/AKTBS/8AShf2J4dZfrjM3qYh/wAuGw0kv/BmKnSXzVJ%2BhU8Y/wDBY3/gnx4X1M%2BHtD%2BNz%2BLNVOfK0zwVoN5qkkuP7rwxGI/991kf8PLPjf4/%2BT9nf/gmP8Ztf3/6i68Y2tt4atZvRlluWf5fcgfSvp7wb8PfAPw50waJ8PfA%2Bj6DZDGLTRtMitYhjp8kSqP0rYo%2BrZvV/iYhR/wQX5zcn%2BAf254d4H/dMnqV33xOKnb508NTpR%2BXtPmfJS%2BOP%2BC1HxC/feHfgb8C/h5A/WDxd4lv9WuYh7NYgRs314pT%2Bzx/wVy8Zc%2BJ/wDgob4K8Iq3%2Bsi8IfCmC%2BwPRWvXBH1619aUUf2TGX8SvVl/3Ecfwgo/mL/iIVeh/uWV4Gj2thYVH/4FiKldv1cT5LH/AATm/aU1/wDefEH/AIKp/GO5kb/WHw4lnpCn6LGjbaP%2BHTGjXvz%2BJP8AgoB%2B09qjN94XXxaYJ9AqwDA9q%2BtKKP7Dyx/FBv1nUf51A/4ijxzH%2BFiY012p4fCQX/kuE/U%2BTP8Ahzx8B5udS/aE%2BOV63drr4p3RJ%2BuFFH/Dmb9k6fjVvG3xUv17refEu%2BYH/vlhX1nRR/YWT/8APiP4v85MP%2BIq%2BI62zSqvRwj/AOk0YnyYn/BEb/gnRcuH8S/CTWtb2nIGreO9WkGfotytdP4Y/wCCSP8AwTf8IuH0r9kjwxKV6f2mJ70flcSPmvoyirhkuT03eOHhf/BH9UzDEeJ3iRioclXOcU49vb1UvujKKOC8F/sq/swfDd1k%2BHv7OXgTQ3T7smk%2BErO3bPrujjBz713iIkaCONAqqMKoGABS0V306VKjG1OKivJJfkkfI4zMMfmNT2mLrTqy7znOb%2B%2BcpP8AEKKKK0OQK8Z/Zf8A%2BS3/ALR3/ZZrH/1CvC9ezV4z%2By//AMlv/aO/7LNY/wDqFeF6APZqKKKACiiigAooooAKKKKACiiigAooooAKKKKACiiigAooooAKKKKACisf4gfET4f/AAm8HX/xE%2BKfjrRvDPh/S4hJqeu%2BINTisrO0QsFDSzTMqRgsyjLEDJA70608feBNQ8CRfFGw8a6TP4Zn0ldVh8RQ6lE1hJYNF5wu1uA3lmExESCQNtK/NnHNAGtXwn/wUZ1P%2BxP%2BCs/7EGp7sZufHFrn/rtFosWP/Hq%2Bzvhr8U/hj8Z/CFv8Qfg98R9B8WaBdu62mueGtYgv7OZkYo4SaBmRirAqcHggg8ivhD/grtqZ0X/gpH%2Bw5qmcD/hOtXtyfQTX/h6L/wBmrzc3lyZfOXZx/wDS6Z9r4d0PrXGGHo/zxrr78Li/8j9DaKKK9I%2BKCiiigAooooAKKKKACiiigAooooAKyvD/APyFtc/7Cif%2BklvWrWfe%2BGNIv7t7%2BQXMUsgAke1v5oN%2BBgFhG6hiBxk84oA0KKy/%2BEP0n/n71X/weXf/AMdo/wCEP0n/AJ%2B9V/8AB5d//HaANSvKfir%2Bx58KvjB%2B0b8Pf2nPFF/rMWufDkXn9n6fY3caWGqGaMrEb6Jo2af7MzSSwbXTy5JGb5uMehf8IfpP/P3qv/g8u/8A47R/wh%2Bk/wDP3qv/AIPLv/47QB81ah/wSS%2BCGsaX4h8M6x8aPiTc6Hrfw98Z%2BDNO0J9S01bbQdL8TzRTal9k2WIkeYSQoY5rl7hl5DmQYA7XxV%2BwT4B1nx9qvxZ8JfFjxv4S8Wap4zufER8ReHbuwM9s1zpNhpVzZRpdWc0RtZYNNtHZXjeRZYw6SIQoX2D/AIQ/Sf8An71X/wAHl3/8do/4Q/Sf%2BfvVf/B5d/8Ax2gDk/2cv2ePD/7MXwr8LfBXwH418QX3hvwh4TstB0ix1ua2mby7YMq3MkqQJJJO6lVclvLIjUqisWZuX0D9h74deHfjmvxqs/HviuS3tPEmo%2BJNE8FTXVodG0jXb%2B1ktbzVLdRbC58%2BWK4uwUkneFWvLhliVpCa9U/4Q/Sf%2BfvVf/B5d/8Ax2j/AIQ/Sf8An71X/wAHl3/8doA8h%2BJH7B/gT4q%2BNLPxr4t%2BLPjVnm0rRNP8b6fbT6fFa%2BNY9Ju3u7I6ki2eVKzyzM/2M2qyrK0UgaILGsPhz9gHwH4V%2BII8caR8YvHa2mn6/wCINf8ACfhh7vT20/w1rOtfazfahaf6H57ylr%2B%2BKJczTwx/apAkYXaq%2Byf8IfpP/P3qv/g8u/8A47R/wh%2Bk/wDP3qv/AIPLv/47QB4N44/4JxeHfiX4B8deFPHf7UPxT1HWfiNZ6Tp3irxqZ9Fh1K50jTpp5oNJEcOmJZLZs13eCVPs26ZbyZXdlbA67xN%2Byp4m8VfCLTvg5eftcfEy1sra3ubTVdR0q38P2d3q9jMNn2SUw6SsdsiR/u0ks0tpkByJN2GHpf8Awh%2Bk/wDP3qv/AIPLv/47R/wh%2Bk/8/eq/%2BDy7/wDjtAHjvjP/AIJ8/BnxV4otNT0jxJ4j8OaALXQLfW/A/h6Wzi0nXItFnE2mJciS2kuEELKiH7PND5scaRy%2BYihaX4d/sEeA/hp4%2Bg8baH8XfHE9ro0%2Bu3Pgrw5fXOnvYeFbnV5XlvLizxZiaV90sojW7luUiWVkRQpAHsP/AAh%2Bk/8AP3qv/g8u/wD47R/wh%2Bk/8/eq/wDg8u//AI7QB4n4G/4J/aL4T/Zw%2BIf7MHiD9pj4meJ9C%2BJM%2BtTatf6w%2Bi29/Yvq9zdXOpG1l0/TLZU8%2BW8nYl0kMe4CLywoA6T9pz9kmy/aS8F%2BG/AFh8cPGXw903wxr2navZw%2BBLbRv31zp91b3djvGo6fdhUhntonVIwgblX3qdo9I/4Q/Sf%2BfvVf/B5d/wDx2j/hD9J/5%2B9V/wDB5d//AB2gDyeH9jCWD9qZv2sE/af%2BIzaxJo1jpEuhz2%2BgTad9gt9rSW0XmaU1xapcyr51x9nniMkmzlVihWPO8Y/8E%2BvA/wAWL3XLz48fG74geOhqnhLVfDelRa3d6baroFjqMlvJc/Yzp1jbMZS1pa7ZrgzyJ5Aw3zyb/af%2BEP0n/n71X/weXf8A8do/4Q/Sf%2BfvVf8AweXf/wAdoA8Nm/4J2%2BFLy6/4TXVP2iviTdfEGPxXa6/afE%2BWbR11a1nt9NudMihSBNNXTjALO9vIzG1o243LyEmQI63NQ/YA8EX/AMItM/Z%2BHxq8exeBkjvF8YeGEudNaLxoby8kvL5tSmexa4H2maacyraS2yOs8ibdhCj2b/hD9J/5%2B9V/8Hl3/wDHaP8AhD9J/wCfvVf/AAeXf/x2gDiNe/Zos/GHxy0z4zeOfi74u1qy8P6l/afhjwLeHT00bSL/AOxvZ/a4xDZpdzP5cs5C3FxNGjzs6orLGY8T9kj9jlf2R7LVtM0z9o74geNrbWtQudS1FPG8OiNLcajcS%2BZNfSXFhplrPPM2AmZZHVY1REVVjQL6l/wh%2Bk/8/eq/%2BDy7/wDjtH/CH6T/AM/eq/8Ag8u//jtACeOf%2BRJ1j/sF3H/otq8u8cf8pC/hf/2Rnx5/6dvCFeonwZob4Wdr6ZMgmK41a5kRvZlaQqw9iCK8u8cf8pC/hf8A9kZ8ef8Ap28IUAezUUUUAFef/tL/ABxufgD8NYvFmi%2BEV8Qa1qviHS9B8N6HJqP2OO91HUL2K0gWWfy5DBCrS%2BZLII5GWKNyqSMFRvQK8%2B/aX%2BB118fvhrF4T0Xxevh/WtK8Q6Xr3hvXJNO%2B2R2eo6fexXcDS2/mRmeFmi8qWMSRs0UjhXjYq6gHn1z%2B3RdaF%2By94p%2BN3i34Ux2nifwd4xPhHW/CVv4iElpHrD6lBYQY1B4ExZSG6tbg3LQK0cEpZ4gyNHXDfEL/AIKkn4ZeDL0%2BNfA3gPQ/E2gfFWTwJ4xuvEfxUNj4R0K9XRY9Zjln1xtOLKkttPbRIHtEY3UxgIUpuPpPw/8A2VviN4I%2BEfjHwDqnxM8H%2BIdU8dXWpar4ivte%2BHck%2Bn3eq3szGQyWJ1HD2C2whtltDL5myHc9y7MTXAeC/wDgmhrXwl0TRfEHwY%2BKfg/w54103x/e%2BKryS2%2BF%2BzwtNNc6Omj/AGeDRbe/ha1jisobdYmW7LhklZ2k8%2BQEA%2BgP2efi1J8evgR4P%2BNkvg6%2B8PN4s8N2erHRNSOZ7Lz4Vk8pjgZxu4OFJGCVXOB5r%2Bx//wAm9av/ANl68c/%2BrA1Wuv8Ag1%2By18O/hj%2By1oH7KHiyws/GXh7SdAj0vUIPEOkwy22pKPmffasGiWIvkrDgqihVGQorkf8Agnv4J8H%2BHf2Y9R8AeG/C9hpmh6f8WviFaadpGm2qW9taQR%2BNNaWOKKOMBYkQKoUKAF2jGMUAe9UVlf8ACH6T/wA/eqf%2BDy7/APjtL/wh%2Bk/8/eq/%2BDy7/wDjtAGpVTXtC0fxRod74Z8RabFeafqNpJa31ncJujnhkUo8bDurKSCPQ1W/4Q/Sf%2BfvVf8AweXf/wAdo/4Q/Sf%2BfvVf/B5d/wDx2gD5%2B8E/8EwfhR8NPhH4D%2BGHw8%2BNXxH0rUPh9rep6ppfjldT0%2B51u8lv0miuhdSXNlJBJuim8pXWFJY0hiEbptJNjwN/wTE%2BAfw/8NeHvCuieLfGElt4a8NfDzQ7BrvUrZ5HtvBuq3eqaW0jfZxuklnvJVuG4DoqCMQsC7e8/wDCH6T/AM/eq/8Ag8u//jtH/CH6T/z96r/4PLv/AOO0AeIfDb/gnd4F%2BFPxE0v4geEvjr8RFXwv4b13QvAehXF5pslh4Ws9VmtppktENjvlMT2kHkm6e42Kmw7k%2BWvSPjn8A9E%2BO/g3S/Dmr%2BNNd0TVNA1q11jw94s0B7VdR0zUIAyrcxCeCW3YtHJNE6SQvG8c0ilMHjp/%2BEP0n/n71X/weXf/AMdo/wCEP0n/AJ%2B9V/8AB5d//HaAOL%2BG37Nth8IvhhD8K/h78VfFVhapp2rrcaiTYTXl1qmpXTXlxrUjy2jKb37TLcTABRbF7mTdA4EYTmbn9hXwBrvwV%2BIPwd8d/E/xl4jm%2BKrbfH/i7VLmxj1TVrfyIrY2h%2BzWkVtBbm1i%2Bz%2BXDBGNksrDEsjyn1r/AIQ/Sf8An71X/wAHl3/8do/4Q/Sf%2BfvVf/B5d/8Ax2gDzb9ov9jrwb%2B0TfW2ry/EXxV4Ovo/DOoeG9QvvBs1lFJqOi3phNzp8v2q1nCxs0EZWWIRzxEN5cqb33N1X9jvQNd%2BIHhzxFrfxh8ZXPhbwhqVlqHhj4ZltNj0TT7qzthBbSB47Jb6URnMoSW7ePzSG2kKir6X/wAIfpP/AD96r/4PLv8A%2BO1hfEbXvhF8IPCtx45%2BKvxGXw5o1r/r9T1rxZPbQIT0XfJMAWPZRyTwAamUowi5Sdkur0RrQoV8VWjRowc5ydlGKcpNvZJJNtvokm/I7Gsrwf8A8gmb/sKX3/pXLXyNqX/BSTRfi9qE3hb9gH9nH4i/GS8SQwv4iTVLzR/Dtu4ODvv7txuIOTtCDcB8rd6tWH7Kf/BSD9oO0SD9o/8Aa7svhb4dcfN4L%2BCFo0d1sJziTVbnMyycndsDKxJNeU83pVnbCQlWfeKtH/wOVo/dzH3y8Oswy%2BKnxDiaWXx35a0nKu15YWl7Ssn29p7Beh9BfHP9q/8AZs/Zo07%2B0vjv8bPD3hkGPfFa6jqKi5mX1jt1zLL/AMAU14JJ/wAFPviB8bwdP/YM/Ys8d/ENJvltvF/iO2Hh/QCD/wAtFuLrDzAdSgVGIwBya9B%2BBf8AwTI/Yp%2BAGpf8JP4Z%2BC1lrPiJpPNn8U%2BMJG1bUZZe8vm3JYRufWMJXvgAAwBgDoBR7LOMT/EqRpLtBc0v/ApWivlBh/aHhxkn%2B6YSrj6i%2B3iJewo37qhQcqsl5VMRG/VI%2BQF/Yz/bz/aXP239sz9tO48K6PPzJ4A%2BB8TadCFP8EuozA3EoI%2BVkIK9cNzmvVvgB/wTx/Y0/ZmmTU/hR8BtFh1ZW3t4h1WI3%2BotITln%2B03JeRSTyQhUZ7V7TRWtHKcDRqKo488/5ptzl8nK9v8At1ROHM/EHirMcJLBU6yw%2BGf/AC5w8Y4ek12lGlyup61alVvruwooor0j4oKKivL2y063a81C7igiQZeWaQKq/UngVw/ib9qr9l/wUzL4y/aQ8BaSU%2B8NT8YWUBH13yis6lWlSV5yS9Wl%2BbRlVr0KCvUmo%2BrS/No72ivA/FH/AAVL/wCCd/hCNpNW/bB8DzBOo0vV1vj%2BAthIT%2BFcRJ/wW7/4JzNKz6X8XNa1C0jO2XUrHwLqz26H0LG2B/IGuGpnOUUnaWIgv%2B3o/o2ebUz/ACKi7TxVNP8Axx/Rs%2Bs6K%2BU7T/gt1/wS/u494/aihiIOGS48KavGwPphrQVas/8AgtF/wTGv5hBB%2B1Zpqse82halGv5vbAVKzvJntiaf/gcf8yVxHw%2B9sXS/8GQ/zPqKivnlf%2BCsP/BOR7UXg/a78I7D2N1IH/75Kbv0rB8Qf8FoP%2BCbWhbYLT9o2HWLuVttvYaD4f1C8mmb0URwEZ%2BpFXLOMogrvEQ/8Dj/AJlzz/IoK8sVT/8AA4//ACTPqSivklf%2BCvvw2ux9s0P9jb9o3U9NP%2Bq1iw%2BE0rW0vurNKG/NRS/8Ph/gcny3f7N/x3gcdYpvhXchh%2BTGs/7cyj/n8vul/wDIGX%2BsmRf8/wBfdP8A%2BVn1rRXyUf8Agrz8OtSPkeCv2Nv2i/EVx/z76R8KJSQf9oySqAPej/h4t%2B0/rXz%2BCf8AglP8X50b/VnXbmy0xj9RIzbaP7byx/DNy9Izf5QD/WLJ38FRy/wwqS/Kn%2Bp9a0V8lf8ADZX/AAU21HnQf%2BCQt2EP3ZNS%2BN2j25H1Qxk0f8NKf8FbbvmD/gmh4WtAeguvjLZSEfXZHR/bGFe0Kj/7hVP/AJFB/b%2BCfwwqv/uDV/WKPrWivko/tO/8FZtD/fat/wAEwvD2sp1Mei/GewgdR/23jIJ%2BlH/DeH7dlp8mrf8ABJLxqjj74s/H%2BmXCg%2BxAGaP7Zwa%2BKM160qn/AMiw/wBYMAvijUXrRq//ACDPrWvGf2X/APkt/wC0d/2Wax/9QrwvXmH/AA8M/ayg/wCP/wD4JRfFRfX7Pq9jL/JhXRf8E6/iP4k%2BLet/Hn4heLvhVrXgnUdQ%2BM0H2nwx4h2fbLLy/CPhuJfM2Er86oJFx/DItdGGzDC4ufJTbva%2BsZx/9Kil%2BJ1YTNcFjqjp0nK6V9YTj%2BMoRXyvfyPpOiiiu09EKKKKACiiigAooooAKKKKACiiigAooooAKKKKACiiigAooooA5X43eIvD3hL4T674i8U6Fqmp2VrZFpLLRfDV3rF1I5YCPyrOzhmnmYOVOI42K43cBSR8h%2BEbbxR8TP8AgjJ4J%2BCeg/Cbx2PE3h34T%2BE4/Efg/Xvh/qulXV5HpTaf/aemKl/bQiWWWO2uYFiyfODgruRt1fc1FAHgn7E8Gra741%2BNfxkg8G69oPhvx38TLfUvC1n4l8PXWkXlzDD4f0ixnvHsryOK4thJc2k6hZY0ZxCJcYkVj8f/APBY/TPivov7a37PPjjxt408PX%2BhaRr17qPhqw0rwxPZ3enImu%2BFkkFzcyXsyXZPmJhkhtwuDkNuG39O6/OX/gvV/oOo%2BB/FnT%2BwfAuuahu/u7fFXgdM/wDkSvJz3TJq77Rb%2B5xf6H6B4U6%2BJOVQ/nrRh/4MjVp/%2B5D9GqKKK9Y/PwooooAKKKKACiiigAooooAKKKKACiiigAooooAKKKKACiiigAooooAKKKKACiiigAooooAKKKKACiiigAooooAKKKKACvGfHH/KQv4X/wDZGfHn/p28IV7NXjPjj/lIX8L/APsjPjz/ANO3hCgD2aiiigAooooAKKKKACvGf2D/APkiGuf9lm%2BI/wD6mut17NXjP7B//JENc/7LN8R//U11ugD2aiiigAooooAKKKKACiiigAqj4l8T%2BG/BegXfivxh4gstK0uwhM19qOpXSQQW8Y6u8jkKij1JArxj9rX9vj4XfsvX9j8N9L0bUPHHxL13C%2BGfht4WXztRvGIO2SXAItoOCTK4%2B6GKq21sfNfxU8BaHr09l8dv%2BC2/7SvhzQtKikF54a%2BA%2Bjasy6ZaYOVa5jiLT6rOvfYGQHcAWRtg8fGZvToSlTo2lKPxNtRhD/HN6L/CrzfZbn22X8J4bC5VHO%2BJMSsDgWrxlJJ1q6Wj%2Br0m48yvo61R06EXf36jXIeka/8A8FEvi1%2B03rt18Nv%2BCZHweXxeIJzb6n8WfFsctn4X0xxw3lHAlvpF/uxjjKsBIprV%2BGv/AAS48JeIPF1t8Zv26fibqXxw8bQnfbJ4kiEeg6Ux5KWmmL%2B5C9jvDBsBtimsPw9/wUsn8YaJa%2BD/APgn7%2BwB8QvHOl2sKw6TqL6RF4Y8OrEOFEVxcgAKBzt8teMetXh4N/4LKfHJt/iT4v8Awt%2BCGmS/dg8MaG/iHVY17rI10Rbk9t0ZFeVCphsXJTq8%2BKl0UYNUl6c3LB/4pOb66HBiPFvDYKjLB8GYSeHpNOLq0054mono/aYuSpKEZdaeG9lTs7OVRav6z03TNN0XT4dJ0fT4LS1toxHb21tEI44kAwFVVACgegrzz4xftk/sp/s/SPbfGb9oXwl4eukPOn32txfa/wAIFJlP4LXiJ/4JU6t4%2BG79pH9vv44eN0k/4%2BdKtfFK6Rpk4PUNbWydO3Djg16T8Gv%2BCbX7CvwEVJPhv%2BzF4Viuk%2B7qWq2P9o3YPcie7Mkik98MK9dVs4q6U6Maa7zlzP8A8Bgv/bj8%2BliuIcVJuFCFO/WpNzf/AIDTW/rP7zz2/wD%2BC1X7CF3dPpnww8T%2BLPH18h2mx8FeBNRupGb%2B6DJFGhP0bHvUI/4KG/tbfEA7/gD/AMEpvifqMLf6uf4g6zY%2BF%2BP7224Mh98Z5r6ysbCx0y1Sx02yit4IxiOGCMIij0AHAqWn9UzWp/ExNv8ABTivxm5v8BfUc6q/xcYo/wDXulFfjNzf4HyV/wALe/4LLeKudB/ZA%2BEXhQN0Hijx/NfFPr9jUZ/Ckbwh/wAFtvF6/Ztc%2BMH7Pfg%2BOXhrnwzoGq388I9Qt4QjN7Hivraij%2BynL48RVf8A2%2Bo/%2BkwX5h/YspfxMVWl/wBvqP8A6TBfmfJCf8E5f2m/HB%2B3fHX/AIKqfGG9uzz/AMW/S08MwKfTy4EkBFOP/BJXSL7914l/4KEftR6vbt/rbK%2B%2BLrGGQehVbcHH419a0Uf2Jlj%2BKDl6zqP86n6B/q5k7%2BOm5PvKdVt%2Bt6uv3HydZf8ABE7/AIJ8TXK6h47%2BG2v%2BL7xDkXninxzqdw5PqQs6KfxFdz4Y/wCCX3/BPPwkqrpX7HngOUL0/tPQo70/j9o35/GveKK0p5PlNJ3jh4X/AMMX%2BLTNaWQZHRd4YWmn35It/e03%2BJw3hj9mH9mrwTIkvgz9nnwNpDJ9xtL8JWduV%2BhjiGK7eKGK3iWCCJURBhURcAD0Ap1Fd1OlSpK0IpeiS/JI9KnRo0VanFRXkkvySK13o%2BkX8nm32l20zgYDSwKx/Miqt74K8G6lCbfUfCWmXEZ6xzWEbqfwK1p0U3GL3RThB7pfccg37PvwEe6N8/wR8IGc9Zj4atd/5%2BXmtzQfBfg7wqWbwx4T0zTS67WNhYRw5HodgFadFTGlSg7xil8l/kRGhQg7xgk/JJfkkFFFFaGoUUUUAFFFFABRRRQAV4z%2By/8A8lv/AGjv%2ByzWP/qFeF69mrxn9l//AJLf%2B0d/2Wax/wDUK8L0AezUUUUAFFFFABRRRQAUUUUAFFFFABRRRQAUUUUAFFFFABRRRQAUUUUAFFR3t7Z6dZy6hqF3FBbwRNJPPNIFSNFGWZmPAAAJJPSue%2BGXxm%2BD/wAavCH/AAsH4N/Fbw14t0ATSRHXPDOu29/Z%2BZH99POgdk3LkZGcjvQB0tfnz/wXX0f%2B3PCc1ltzs%2BA3i64x/wBcfFHgaX/2Svtv4UfHb4IfHjTLvWvgd8ZPCnjOz0%2B6%2BzX934U8RW2oxW020N5cjW7uEfaQdpIOCDXyb/wV10f%2B3DqNls3bP2XfiXcY/wCuWpeEJc/%2BOV52bw9plOIj3hP/ANJkfY%2BHWJ%2Bp%2BIOT1/5cVh3/AOVqX%2BZ9k%2BCNY/4SHwXpGv7t327S7e43eu%2BNW/rWpXBfsq6x/wAJD%2By/8N9f37vt3gLR7jd677KFs/rXe12UJ%2B0oQn3Sf3pP9T5zNMN9TzTEYf8AkqVI/wDgM5x/9tCiiitThCiiigAooooAKKKKACiiigAooooAKKKKACiiigAooooAKKKKACiiigAooooAKKKKACiiigAooooAKKKKACiiigArxnxx/wApC/hf/wBkZ8ef%2BnbwhXs1eM%2BOP%2BUhfwv/AOyM%2BPP/AE7eEKAPZqKKKACvMP2tvjJ4y%2BDHwwsL74a2emS%2BJfEnjDRfDWgSa3BJLZWtxqF/DbG6njikjeWOGOSSbylkjMpiEYePfvX0%2BuN%2BPHwS8NftA/DqX4d%2BJtY1PS9upWOp6XrWiTRx3ul6hZXUV3aXcDSxyR7454Y22yI8bgFHR0ZlIB4nf/tj/Gfwz%2ByH8RPiRrvh7w9e%2BOfhv43m8La3fWGm3SaMAt9bRf2y1t50k6WsNldx308AmZkEM0YmOBLXmEf/AAVb13UPCY8FeFfHngvxD4nf4yz%2BBrP4g%2BFPAuraxouowReHYfEDahZaPYXU15enyrhLTyYbpgZEln83ykK19L/Dn9lgfCn4e6t4G8F/HrxxBda5JeXupeJpV0mXUJtWurp7ifVSXsDD55LiMReV9lSKKNEgULWCf2DPBEXhe0j0/wCMHje18aWnjebxc3xSjk0x9cuNXmsG02WeRZLFrFlbT2FoIfsgiSKKLYitGjqAdt8P/jj4Duv2ddH%2BPXjb4zeE7jQpdAhv9S8b2/8AxKtIkUqN9wFuppDaRls/u5ZWaM/IzFga4n/gnT4n8NeNf2br7xh4N8Q2Or6Rqnxb%2BId3pmqaZdpcW13BJ4z1po5YpUJWRGUhgykgggg16V8Efg94R%2BAPwq0X4QeBWvH03RLYxxXGo3HnXNzI7tJLPM%2BAGlkld5HIABZzgKMAcH%2Bwf/yRDXP%2ByzfEf/1NdboA9mooooAKKKKACiivLP2r/wBs79nn9izwA3xA%2BPfjqLTo5Aw0zSbcCW/1OQf8s7eAEFzyAWOEXILMo5rKtXo4ak6tWSjFbtuyRlXr0cNSdSrJRit2/wCvklq22kk20n6fdXVtY20l7e3EcMMMZeaaVwqooGSxJ4AA5JNfm9%2B3J/wW60e68USfs6fsN64L/VLif7Jf%2BP7HSm1Io5yDDpNmvN/cHBCyNtgDbRuIYOtx9P8A22v%2BC1OhLLqTXnwN/Z5u3DR26nzdd8YQ54LdFS3IGRn93lwcXIUFPrP9k/8AYB/ZU/Yu0ZbL4F/C60tNRaHy7zxJqH%2Bk6ndjHO%2B4cblU9fLTZH6KK%2Bcr181ztKOBfsqD3qST5pL%2B5HRpP%2BZ2b6JLU9fKs7WT1JVKeA9piV8LxUWqNJ/zPDXVSvNbqFZ0aEXb2kKrvTPjX9kf9hP9t7xJZ3utaJNN8C7HxK3m%2BKvH3iGZdZ%2BIvifcQzGSdv3emRsQCIk2yRkDd5pBY/WHwB/4Jkfshfs/a5/wndj8P5fFvjCSQS3Xjjx9eNq%2BqzTf89fNmysT/wC1EiGvoCiu/BZDl%2BDjG8eeUdnLWz7pfDH1Su%2Bsm9Tx8whic8zWWaZzWni8VLV1Kz5mraJQhZU6cYqyjGnTjGMUoxslYKKKK9k2CiiigAooooAKKKKACiiigAooooAKKKKACiiigAooooAKKKKACiiigAooooAKKKKACvGf2X/%2BS3/tHf8AZZrH/wBQrwvXs1eM/sv/APJb/wBo7/ss1j/6hXhegD2aiiigAooooAKKKKACiiigAooooAKKKKACiiigAooooAKKKKACiiigDyL9vv4feNPit%2BxR8U/hx8PNGl1PWdZ8Daja2WkQOFfUy0DbrNSxCgzruhG4hf3nJAya8U8OXGufEWy/aW8a%2BAfgD4rk034k%2BFxaeC/CXirwhqmgHxDf2Xh/7PcGdZ4YZLBJjJa2KyTeS0n2NjFuRFc/ZFFAHxx/wS/8C%2BMvDfxJ8c%2BINVufiNrukT/D/wAF6VZ%2BMfir4Dfw3qr3VkuqrPpEVobS0WS0tFmgkSfyWZpL%2BZGubnyx5VL9uXwr8V9V%2BN3ibTvGvjLw9qWh6p%2Byl8VYfDGm6V4Yns7uwVpvDKuLm5kvZku2JKbWSG327TkNkbftSvnX9pvR/wDhIf2rvDOgbd3279nX4lW%2B31333hNf61hioe0w1SHeMl98Wv1PUyPEfU88wmI/kq0pf%2BA1acv/AG06P/gnRq/9ufsEfBq%2B3ZK/DTRoCfeKziiP/oFez183/wDBIbWP7c/4JtfCW9352eHHt8/9crmaLH/jlfSFc%2BVT9pldCXeEP/SYnsce4f6px1m1D%2BXFYhf%2BV6v%2BYUUUV3nyYUUUUAFFFFABRRRQAUUUUAFFFFABRRRQAUUUUAFFFFABRRRQAUUUUAFFFFABRRRQAUUUUAFFFFABRRRQAUUUUAFeM%2BOP%2BUhfwv8A%2ByM%2BPP8A07eEK9mrxnxx/wApC/hf/wBkZ8ef%2BnbwhQB7NRRRQAUUUUAFFFFABXjP7B//ACRDXP8Ass3xH/8AU11uvZq8Z/YP/wCSIa5/2Wb4j/8Aqa63QB7NRRRQAUUV8kf8FBv2qPGt54mi/Yc/Zh8XW%2BleONd0qTUPHPjWWYLbeAPDirm41CeTIEczISIwSCNwbKloyeTG4ylgcO6s9eiS3beyXm/uSu3ZJs5MbjIYKjzuLlJtRjGKvKc5O0YRXWUm0l829EzO/b8/4KpaF8BBrvwh/Zxi07xH470eyM/ibWL2QnRfBcGQvn38qZ3zbiFS1TMjuVXBZkjk%2BeP2B/8AgmD8QP2wfiXF%2B3Z/wUL1XWfENneul14Y8P8AilQtzrCD5ori6gBKWtpzujs0%2BUgjdlABJ037Df7HPw0/ap13S/EvhnwLNpn7OHgLVzP4R07VIj9r%2BJmuxEpJr2plhumhVgwjjb5eSoVV8yOv0pAAGAMAdBXzOEwFfP8AELGY93pRd4QXwN/zWfxJdG173xJKHKpfoFTLF4f04xxnLUzuSvNr3oZemtKNFap4yz/f4hpyoX9jQ9nU9rUiyCCC1gS2toUjjjQLHHGoCqoGAAB0AHan0UV9ifFNtu7CiiigAooooAKKKKACiiigAooooAKKKKACiiigAooooAKKKKACiiigAooooAKKKKACiiigAooooAK8Z/Zf/wCS3/tHf9lmsf8A1CvC9ezV4z%2By/wD8lv8A2jv%2ByzWP/qFeF6APZqKKKACiiigAooooAKKKKACiiigAooooAKKKKACiiigAooooAKKKKACio729s9Os5dQ1C7igt4ImknnmkCpGijLMzHgAAEknpWB8LfjD8JPjj4VXx38FPil4c8YaG1w8C6z4W1u31C0MqY3xiaB3TcuRlc5GeaAOjrxb4gQRXP8AwUE%2BGVtOm5JPgt49V1PcHVvCAIrv/ht8dvgh8Zb3WNN%2BEHxk8K%2BK7nw9di11%2B38NeIba%2BfTJyXAiuFgdjC%2BY3G18HKNxwa4Pxx/ykL%2BF/wD2Rnx5/wCnbwhQCbTujzT/AIIhzyp/wTX8CaHcOTNpF/rdlKT1ymr3hA/JhX1jXyX/AMEbP9B/Zk8VeE%2Bn9g/F/wAT6ft/u7b0vj/yJX1pXlZF/wAibDrtBL7rr9D7/wAVkv8AiJecTX28RUn/AODHGp/7kCiiivVPgAooooAKKKKACiiigAooooAKKKKACiiigAooooAKKKKACiiigAooooAKKKKACiiigAooooAKKKKACiiigAooooAK8Z8cf8pC/hf/ANkZ8ef%2BnbwhXs1eM%2BOP%2BUhfwv8A%2ByM%2BPP8A07eEKAPZqKKKACvMP2tvjJ4y%2BDHwwsL74a2emS%2BJfEnjDRfDWgSa3BJLZWtxqF/DbG6njikjeWOGOSSbylkjMpiEYePfvX0%2BuN%2BPHwS8NftA/DqX4d%2BJtY1PS9upWOp6XrWiTRx3ul6hZXUV3aXcDSxyR7454Y22yI8bgFHR0ZlIB4nf/tj/ABn8M/sh/ET4ka74e8PXvjn4b%2BN5vC2t31hpt0mjALfW0X9stbedJOlrDZXcd9PAJmZBDNGJjgS1xejf8FNfFHiH4A/EL/hW%2BueB/iB8RfDXje68K%2BEdb8NWVxD4e8QSJolnrT6sIftU0i2Vra3jedtumEslqUilDXMIr3z4c/ssD4U/D3VvA3gv49eOILrXJLy91LxNKuky6hNq11dPcT6qS9gYfPJcRiLyvsqRRRokCha53Uf%2BCb37Kvjb4a6r4A%2BOvw%2B0/wCJ99rmp3uqat4v%2BIugaZqWqTajdW0NrJeoTarBbSrb21rCgghjRI7WFQmEFAHb/DH456LqH7L3hb9on4x%2BJND8N2mpeCtN1vxBqV5eLZ6fYtcW0UshMk74ijDSYBdzgYBJPNcZ/wAE6fE/hrxr%2BzdfeMPBviGx1fSNU%2BLfxDu9M1TTLtLi2u4JPGetNHLFKhKyIykMGUkEEEGvSvgd8GfAP7O/we8NfAz4XaNFYeH/AApo0Gm6XbRW8UX7uJAu9lhRE3uQXcqqhnZjgZrg/wBg/wD5Ihrn/ZZviP8A%2BprrdAHs1FFc98Wfip4F%2BB/w11v4ufEzXY9N0Hw/p8l7qd5L/BGgzhR1Z2OFVRyzMFGSRUznGnByk7Jat9kiJzhSg5zdkldt7JLVtnl/7eH7Xi/so/C21TwboX/CQfETxhfDR/hv4Ti%2BaTUtSkwFdlBBEEW4PI2QMbV3KXBr4b/Zb/Zf179rzxPrfwUsvG91rPghfEK6l%2B0j8WbaYrJ8Q/ECnzBodjMMH%2BzrYnaWTCn7yhd8e7F8RXXx6/bP%2BO%2Bma9NHNpXxR%2BNWkSQ%2BDdNf5/8AhVvw4JKz6k4HC318hZFbglZGAZDKir%2BovwR%2BC/w8/Z4%2BFOh/Bj4VaDHp2heH7FLWxt0A3NjlpHIA3yOxZ3c8szEnrXx1KFTiPMHUqXVCGiXe%2BtvJyVnPqoONPRymfZ8L0/8AVTLKPF%2BKh/t%2BIUv7PpyX%2B70NYyx8otfxqzUoYRSX7uEZV7XVM3vDvh3QfCOgWXhXwto9tp2mabaR2un2FnCI4reFFCpGirwqqoAAHAAq5RRX2SSirI%2BRnOdSbnNttttt6tt6ttu7bbbbbd222FFFFMkKKKKACiiigAooooAKKKKACiiigAooooAKKKKACiiigAooooAKKKKACiiigAooooAKKKKACiiigArxn9l//kt/7R3/AGWax/8AUK8L17NXjP7L/wDyW/8AaO/7LNY/%2BoV4XoA9mooooAKKKKACiiigAooooAKKKKACiiigAooooAKKKKACiiigAooooA8i/b7%2BH3jT4rfsUfFP4cfDzRpdT1nWfA2o2tlpEDhX1MtA26zUsQoM67oRuIX95yQMmvHPA0Pjf4sXH7RniT4OeDfGPg4fFHw/HYfDuTxF4K1PRJX1a00EW0moSR3NvG9kN8tpbI84jaX%2Bz2MW9EVj9gUUAfJ3/BMfUfjbp9hc/DTxPZeL38FeHPh94at9Kl8bfDdfDM%2Bl60q3ceoaRZwi1tvtNhbxxWRjm2zAGZwLq55MfVX%2Bm/Fe0/4KbeC7zxt408PahoVx8HvHB8NadpXhiezu7BBq3hLzFubmS9mS7JymCkNuF2nIbcNv0PXjPjj/AJSF/C//ALIz48/9O3hCgDzH/glD/wAS0ftFeE24/s39p/xV5K%2BkMn2Z0/rX1pXyX/wTp/4lX7TP7VXhPGPJ%2BMKaht/6%2BrNHz%2BO2vrSvJyTTLIR7Oa%2B6pUP0DxR97jjE1f8An5DDz/8AA8JhH%2BjCiiivWPz8KKKKACiiigAooooAKKKKACiiigAooooAKKKKACiiigAooooAKKKKACiiigAooooAKKKKACiiigAooooAKKKKACvGfHH/ACkL%2BF//AGRnx5/6dvCFezV4z44/5SF/C/8A7Iz48/8ATt4QoA9mooooAKKKKACiiigArxn9g/8A5Ihrn/ZZviP/AOprrdezV4z%2Bwf8A8kQ1z/ss3xH/APU11ugD2avzo/b0/aI8G/tIfEbxPY%2BKrkz/AAA/Z5mXUfiM0Mu2Pxn4oUgWegRt0dElKCQcjcxDAYjevqr/AIKJ/tFXv7L/AOyB4w%2BJfh5nbxDPZDSvCUEIzLNqt2wgtti9WZXfzdo6rE1fI37Ov7NOk/En4x/D79hTSbaK5%2BH37Olta%2BJPi9exfNF4j8c3CmRLZ2585YXMjtktwpiYfKlfL5/ialerHAUt5Wuu7bfLF/3dJVJ94wUfta%2Bhw1kOE4s4l%2BqZg2suwlP61jGtG6UJJQoJ9JYipy04rrzbWjI%2Bjv8Agm7%2Bzb4z8AeD9X/ad/aDhWb4sfFmWPVfFDPFt/sez2j7JpMQPMccEW0Ff73yksI1NfTFFFe/g8LTwWGjRhsur3berb827t%2BvodfEWfYzibOa2Y4lJSm1aMdIwhFKNOnBfZhThGMILpGPdybKKKK6TxAooooAKKKKACiiigAooooAKKKKACiiigAooooAKKKKACiiigAooooAKKKKACiiigAooooAKKKKACiiigArxn9l/wD5Lf8AtHf9lmsf/UK8L17NXjP7L/8AyW/9o7/ss1j/AOoV4XoA9mooooAKKKKACiiigAooooAKKKKACiiigAooooAKKKKACiiigAooooAKKjvb2z06zl1DULuKC3giaSeeaQKkaKMszMeAAASSelYHwt%2BMPwk%2BOPhVfHfwU%2BKXhzxhobXDwLrPhbW7fULQypjfGJoHdNy5GVzkZ5oA6OvD/iHrWm2P/BR/4SaNd3KpPffBj4gfZUY48wpqvg9mUepwSceik9q9Y8MfET4f%2BNtU1rQ/BnjnR9XvfDepDTvEVnpepxXEul3nlJN9nuUjYmCXypY5PLcBtsiNjDAn4h/4KifE/UPgd/wUn/Y7%2BL8buumWMvi7TPEEgP7uGx1Gfw9ZPLJ/so80bfULXNjMTHCYd1pbK1/RuKb%2BV7/I48fi44HCyry2ja/o5RTfy5r/ACPQv2NP%2BJT/AMFLv2ufDR4Vr7wXqEI/vedpEhc/mAK%2BtK%2BS/gV/xJv%2BCwPx403p/bXw68L6hj%2B95KvBn9cV9aVxZNphZx7VKq/8qN/qfpniT7%2BeYat/Pg8DL/y0pwf402FFFFesfn4UUUUAFFFFABRRRQAUUUUAFFFFABRRRQAUUUUAFFFFABRRRQAUUUUAFFFFABRRRQAUUUUAFFFFABRRRQAUUUUAFeM%2BOP8AlIX8L/8AsjPjz/07eEK9mrxnxx/ykL%2BF/wD2Rnx5/wCnbwhQB7NRRRQAV5D%2B2v8AEjx98PPhPpFl8MvEraFrHizx/wCHfDEPiJLSGd9Ji1DU7e3nuY450eJphC8gi8xHjErRl0dQUb16ud%2BLHwn8A/G/wFe/DP4m6G2oaPfvBJNDFezW0scsMyTwTwzwOksE0U0UcscsTrJHJGjoysoIAPnSw%2BMv7VE/7IfxQsPBviDUfFXjv4ffEa78M2/ii10G1l1K%2B0uK%2BtWmv47OGJLee/g065lxEkQjmubUAQgSeVXJ/D/9pPxl44%2BBvxZ1v4gftZ/E3wPo3wf%2BJZ0i28b33w/0mz8SeI7SfRNJv7aCfTb3SiiXDXOq/Z4oIrKGecJbAKHlIb6S8Lfso/BfwR8Pbr4X%2BELPxJpukXtpPDdCz8eaxHdSvPdSXU92boXf2j7bJPLJI975n2ly3zSkAAc34k/4J6/sq%2BK/A/h/4f6t4S8SJZeGPFMviXSryw%2BI%2BvWmonWZEkjfUJ7%2BC9S6u7jZK6%2BbPLIwBGCMDAB0fwf%2BIXxN0H9lHwn8Sv2oPDl3a%2BMY/BWnXfjrSvDehXN/NDqTW8ZuoobSyWeWQiUuPLiEmMHBYDceT/4J0%2BIbDxb%2BzdfeKdKt76K21H4t/EO5t4tT0ueyuUR/GetMBLb3CJNA4B5jkRXU5DKCCK9k8KeGdO8GeGrHwnpFzqE1rp1qlvby6tq1xf3LoowDLc3Mkk07%2BryOzseSSa8k/YevrTS/gF4i1K/nWKC3%2BMPxJlnlc8Ii%2BNNbJJ9gAaNgbSV2fLf/AAVV/aD09v2k9I0Sd47jw7%2Bz74Tn%2BI3iO3l5hufEMpFpoFm/o4uZY5cYOY5W9K%2BmP%2BCb/wCzld/s1/soeH9A8VJLJ4v8Rq3iLx7f3RzcXesXuJpzKx%2B8yZWLPcRA9Sa/P39n7Sb79tj45eCI/ENsZbn43fEm9%2BK3xAt35a08KaJNLY6Lp0v96J50mT6GM9q/XmvkshX9oY%2BtmMtnpH5pP8IKC/7eku59ThebJvDXDR2rZtUeNqd/q1PmoYGD62ajXxFtrzjK17MKKKK%2BtPlgooooAKKKKACiiigAooooAKKKKACiiigAooooAKKKKACiiigAooooAKKKKACiiigAooooAKKKKACiiigAooooAK8Z/Zf/AOS3/tHf9lmsf/UK8L17NXjP7L//ACW/9o7/ALLNY/8AqFeF6APZqKKKACiiigAooooAKKKKACiiigAooooAKKKKACiiigAooooAKKKKAPIv2%2B/h940%2BK37FHxT%2BHHw80aXU9Z1nwNqNrZaRA4V9TLQNus1LEKDOu6EbiF/eckDJryz4Ma78S/FHjT47/FH4A/DzV/DV349sbOP4Yw/EXwPq%2BjWdzrNhoqQvfX0MtqJrS3Mj2dtuljR5lsH8lZFRGP1hRQB8ff8ABLb4LfH/AOBXj/44eEvjB8HNJ8OWN14t0i8sda0/xbeaudfvG0HT1vb0z3Gl2IuWlnV5ZZ1Xm5luIyg8oO/D/wDBTf4AfFz47/FDVfAfifxboGqWd1%2Bz3481HwFpujeGLizvrC6stX8IXcaT3T3sy3TvJDGqtHDb7QWyG3cffNeMeOlVv%2BChPwwVlBB%2BDHjwEEdf%2BJt4QrDE0IYrDToz2kmn801%2BpzYzDU8bhKmHqfDOLi/Rpr9b/I%2BXPg38ffsX7W3wJ/bc8TSxyeGf2hvhHaeC9S1EcJpvieCXz1jduhEsqyQIMZ3Kx4Ar9Cq/Ob4E/szW/wAYf2Xv2hv%2BCZT3f2HW/hV8Srq9%2BHF1vKPpkV0x1HR51Ycx5k84My/wSsB1r6v/AOCf37Tdz%2B1d%2BzDofxD8R2xtPFOnPJovjnTHTZJZazaERXKMn8G4gSheyyqOtfP5DiKkJeyq71E5r/HF8lWPylFTXlJn3c8RLi7w2y3Pf%2BYjBxjgsSv8HtPq9X0klWoyf89OHWZ7VRRRX058aFFFFABRRRQAUUUUAFFFFABRRRQAUUUUAFFFFABRRRQAUUUUAFFFFABRRRQAUUUUAFFFFABRRRQAUUUUAFFFFABXjPjj/lIX8L/%2ByM%2BPP/Tt4Qr2avGfHH/KQv4X/wDZGfHn/p28IUAezUUUUAFFFFABRRRQAV8car8Rf%2BFUf8EsPjn47SfyprTxX8WI7OTONtxN4u12GE/9/JEr7Hr8xv8AgoH8QbTwZ/wSG8W%2BGr268qPxf%2B0n4w0eRg2CUHjzW7xwP%2BAWjZ9s15uc4j6rlOIq9oS%2B%2BzS/Fo4M1%2BsPLasaCvUlFxilu5ztCCXm51IpebR13/BAr4Q3t18Mtf8A2o/EloofU7Sw8IeFCOUXS9KhWKeaI9luLzzXYf34jX6F18%2B/8Ep/BH/Cv/8AgnV8IdB8nZ5/g%2BDUiuMf8fjNeZ/Hz8/jX0FWOQYZYTJqEOrim/WSUn%2BaXokff8e1Kf8ArbicJRf7nCtYWlbZUsLGOGp29VRlJ/3pyfUKKKK9g%2BPCiiigAooooAKKKKACiiigAooooAKKKKACiiigAooooAKKKKACiiigAooooAKKKKACiiigAooooAKKKKACiiigArxn9l//AJLf%2B0d/2Wax/wDUK8L17NXjP7L/APyW/wDaO/7LNY/%2BoV4XoA9mooooAKKKKACiiigAooooAKKKKACiiigAooooAKKKKACiiigAooooAKKKKACvGfHH/KQv4X/9kZ8ef%2BnbwhXs1eM%2BOP8AlIX8L/8AsjPjz/07eEKAPIf2u/C3xc/Y3/aUuv8Ago/8GfC8vinwvqmhW2lfGjwbZQ5vfsNsT5Wr2hz%2B8kgQ7XQ/wKegLPHx2ofEDU/2V/iLq/8AwUg/ZbsE%2BInwB%2BLcdtqnxH0jw6pa%2B0K7jUpJrFvESN4PzfaYiFdXVt%2B0LlPvRlV1KOoIIwQRwRXxx4z/AGRP2lP2LvHmu/Gj/gnOuk6x4V1%2B8N/4t%2BA%2BuSC3s7icjEk%2BlXH3bSVx/wAsmAj4/iCxxr8zmOArYeftqHNy8zn7qvKnN7yivtQktKlPd7x10NeHOIMXwLmVetHD/WsBik44nDu93FyU3Km17ykpxVSLjedOoueCnGVWlP6n%2BFXxX%2BHXxv8Ah/pnxS%2BE/i6z13QNYtxNp%2BpWMm5JF6EEdUZSCrIwDKwKsAQRXQ1%2BY/wc8X2Ft8TdZ8Zf8E0/H8Hw0%2BIFxfGbx/8Asn/FeL7BbX94FHmNYqxX7PKwGQ0J2H5N/lINlfVX7On/AAUu%2BDHxd8V/8KV%2BMGlXvwp%2BKVsyxX3gDxuRbyyyHobOdgsd5G3OwphmAyExgnpwGeYfEKMK7UZPRNP3JP8Auyez7wnyzW1na59niOFcHnOXzznhGv8AXsElzSjH/ecOuscRRXvJR2danGVJ2vL2Lbivo6iiivdPhwooooAKKKKACiiigAooooAKKKKACiiigAooooAKKKKACiiigAooooAKKKKACiiigAooooAKKKKACiiigArxnxx/ykL%2BF/8A2Rnx5/6dvCFezV4z44/5SF/C/wD7Iz48/wDTt4QoA9mooooAK8Q/b%2B8SeItC%2BCejaRonivUtAtPEnxL8K%2BH9f1zR9Qks7qz06%2B1q0trgRXMTK9s8yyfZhMjK8f2jcjI4Vh7fWb4x8GeD/iJ4Wv8AwP8AEDwppuu6Jqls1vqej6xYx3VreQsMNHLFICkiEdVYEGgD5T8IRftA%2BOP2Nfiv8L/gv4/17VdR8L/FfUtA8Jaze%2BKpP7V1HRbXVLdruwj1S4cyfaxEb/TYruWTzEkijZ5d6NJXlXwo8d/FL4qfEa1/Zi%2BIet/EnwX8Pj%2B0HrWh6cl58UruTX5LW18GWmqJpM%2Bu2V9LPIy6hNqMzCK8kZRY/ZmkZIZUP29b/s1/s52ngt/hva/AHwVF4dk0P%2BxZNAj8K2a2Tab5jSfYjAI/LNvvd38rGzc7HGSTUep/swfs0618Jbb4Bax%2Bzx4Gu/Alm6vZ%2BCrnwlZyaTAyuXUpZtEYVIdmYELwST1NAHC/sZfF74jeK/2BvAfxe8RaRrPjrXp/CEE6DTpLSO%2B8RIvyQ3atczQW/mXEQScs0kaHzCQQCBX5g/8ABTP4rX2rfsj/AA%2B8E6n4U1DS5NT%2BLnxe13VtC1F4JLnTZR4q1a1gjmNtLLEzrNeshMUkiblO1mGCf2r07TtP0jT4NJ0mxhtbW1hWG2treIJHDGoCqiquAqgAAAcACvw3%2BPM8vxn/AG0dL%2BEsaiexg%2BMGseFLiHGdl3qXxP1y%2BZz6D7PagH2r5fjGclkc6Ud6koxXzf8AwD3OEsNSx3HOS4WqrwljMPKS/uUZvE1P/JMKz9qvg54LT4b/AAi8K/DtIwi6B4bsdOCjoBBbpFj/AMdrpKKK%2BmhCNOCitkkvuVv0PJxOIq4vEzr1HeU5Sk/WTcn%2BMmFFFFUYhRRRQAUUUUAFFFFABRRRQAUUUUAFFFFABRRRQAUUUUAFFFFABRRRQAUUUUAFFFFABRRRQAUUUUAFFFFABRRRQAV4z%2By//wAlv/aO/wCyzWP/AKhXhevZq8Z/Zf8A%2BS3/ALR3/ZZrH/1CvC9AHs1FFFABRRRQAUUUUAFFFFABRRRQAUUUUAFFFFABRRRQAUUUUAFFFFAHj3/BQc%2BOR%2Bw58WD8N/7T/tj/AIQLU/s/9ib/ALds%2Bzv5v2by/n8/yvM8vZ8%2B/bt%2BbFeJfsc%2BL/2NdA1X446R8H/FfgWw%2BAt4ltNolvoWoW0OhTPDosba9JYiJhGYI4WszcND8iTNOXIlMtfZ1FAHx3/wSb8R/s2/EuT4k/Gr9k%2B/8CaJ4H8TX2mHw/8ADbwJfWe3R7SGGZI9UvrO0bZp97qGWcwMqyCG1txKBMsyJ3t/qXxXu/8Agpt4Ls/G3gvw9p%2BhW/we8cDw1qOleJ57y7v0OreEvMa5tpLKFLQjCYCTXAbccldo3fQ9eM%2BOP%2BUhfwv/AOyM%2BPP/AE7eEKAPZqKKKAPLP2lP2K/2ZP2uNJTT/jv8J9O1e5gTbYa1Gpt9RssHIMN1EVlQBudu7aSOVNfKHx%2B/4JjftT23hA%2BCPCnxE8M/HrwPahv7P8FfHC3ddY01CMFbHW7bbMkmMBSxjRQMYI4P6BUV5eNybL8c3KcbSejcdG/XRqS8pRl8jlpYZ4TMYZjgas8PiYO8a1GcqVRNbe9Bq/pJSXTa6Px/0z9r79uD/gnbOmi65Y%2BOPD3h61cJ/wAIV8b9Ll1nSol6eTp3iTT1LP2VEkjWKMYyzc19Q/s%2B/wDBeT9kX4lRwaT8bre%2B%2BG%2BrPIIXuL2VdS0eSYgHZFqFpuQ8dTIsYHc19t3VrbX1tJZ3tvHNDKhSWKVAyupGCCDwQfSvnn4z/wDBJ7/gn58dJ5dS8V/s2aJp2oyksdU8L79JnDnq5%2ByMiu3u6tnvmvHjlOfZa/8AYcSpx/kqJ2%2BTTdvlZeR9hU4xzDMo2z/B0cbL/n9D/YsU/Oc6MJ4as%2B7q4WEm9XNt3PdPBPj7wN8S/DsHi74c%2BM9K1/SrkZt9T0bUI7q3k/3ZI2Kn861q/Om8/wCDfvT/AIWa/J4x/Yw/bd%2BIfw41IncnmsLgNg5EZe2e2Yp2%2Bbfx1DV1Oj6F/wAF7f2drYW8Ov8Awo%2BOWmxOFijv5G03VGjHbfi2iDf7TtKfXNdlPNsyoq2Mwcl502qkfuTjP8GfOYzGZRGV6EK8F2qU4Tt/2/QnKL9XTh6dvu2iviK//wCCu3xg%2BDrXI/a4/wCCZXxc8IW9mdtxq/hiKPXbBT3Y3IEEQXvw7cetb3gL/gux/wAE0fHASK8%2BN954fuJMYttf8NXsZU%2BhkiikiH4vXRHiDJnLllWUZdp3g/umonlzzbAUqftK0%2BSO15xnBXfTmnCMb%2BXNfyPr%2BivJfBP7en7E3xFCL4N/ax%2BHl5LJ9y1/4S20jnP/AGyeRXH5V6ho%2BuaJ4hs11HQNYtb63b7s9ncLKh%2BjKSK9KliMPXV6U1L0af5NnVQxWFxKvRqRl/hlF/k2WqKKK2NwooooAKKKKACiiigAooooAKKKKACiiigAooooAKKKKACiiigAooooAKKKKACvGfHH/KQv4X/9kZ8ef%2BnbwhXs1eM%2BOP8AlIX8L/8AsjPjz/07eEKAPZqKKKACiiigAooooAK/FH9jzwZL4z/4Kwag0iNLDqv7YHxCuZNxyIhoE1/Oh9svqB/Gv2ur8v8A/gnd8PLf/h6j4hWN45U0q9%2BK3im4dBxFeX3xA1LT1Q/7RtraM/SvnuIKH1hYWPT2sP1/RM%2By4Bw1%2BIamYvbCYXHVvSTws6EH682K0P1Aooor6E%2BNCiiigAooooAKKKKACiiigAooooAKKKKACiiigAooooAKKKKACiiigAooooAKKKKACiiigAooooAKKKKACiiigAooooAK8Z/Zf/5Lf%2B0d/wBlmsf/AFCvC9ezV4z%2By/8A8lv/AGjv%2ByzWP/qFeF6APZqKKKACiiigAooooAKKKKACiiigAooooAKKKKACiiigAooooAKKKKACiiigArxnxx/ykL%2BF/wD2Rnx5/wCnbwhXs1eM%2BOP%2BUhfwv/7Iz48/9O3hCgD2aiiigAooooAKKKKACiiigArzb4ufsdfsp/HnzZfjB%2Bzx4P1%2B4mzvv7/QYTdDPXE4USr%2BDCvSaKzq0aNeHJVipLs0mvxTOvB4/HZdV9rhKsqctrwlKLt2vGUbryd13TPhz4o/8G9//BPbx27XXg/R/FPgyfO6MaFr5niDdeY75Z8rn%2BEEe2K8N8Rf8G5HjDwdrEniX4J/tM6TfTbcW9l4j0C607y8dM3Gm3Kkn38uv1VorwcRwnw/iHzOgovvG8fydvwPXXE2LraY7D4bFL/qIwmFrP8A8DdCFVPzVXm/vH5KH/gn/wD8FYvgwS2k6p8QNbjh6J8K/wBpCbT7cj18jV4HL4H8OcmgfFP/AIKGfCoeX4y%2BK37WvhDy/v32ofB7SvF9jDj%2B/Okse4e%2B3mv1rorm/wBVKVL/AHfEVI%2Brb/8Abos0%2Bu8A4r/fOHaMX3w2IxuEfyjDEV6a9FBI/KXw5/wUi%2BNNvejRj/wVz8C/2gmN9h8SfgLeaLIP99oY/LX8Gr1fwV%2B2X/wUE8T7E8AftcfsR%2BMg2MW6%2BKdRt7xv%2B2ayfKfqK%2B8/EXhPwr4wsTpni3wzp%2BqWx62%2Bo2STof8AgLgivJ/Gn/BOf9g74g728T/sifD95JP9ZPZ%2BGLe0lb3MkCoxPvmj%2Bxs5pfBiL/8Ab9WP/wAsQv7J8JsTt/amFf8AcxVDERXyrUac7eXNfzPLbH40/wDBYmC1S%2BP7Kvwa8RwsMrNoHxBnhWQf7JmUipf%2BGr/%2BCq2k8ar/AMEobDUVH3pNK%2BOOlx/iFliyfpU19/wRT/4J9RXL6j4G%2BGuveEbtzk3fhbxxqds4PqA07KPwWov%2BHVN/4dO/4W/8FD/2jNB2/wCrtJ/iEL61T6RSw/8As1H1bP6fWb/w1ab/APS6K/MP9TeA6/8Au3E%2BKpeVbBqX3ujOovnb5Cf8N4ft16f/AMjD/wAEkvGsWPvf2b4/0y8/LaBmj/h5L%2B0BY/8AIc/4JYfG%2BPHX7BZ2t1%2BW2QZpf%2BGLP%2BCjPhn5vh//AMFZdXeNfu2vij4V6ZqG8ehlLhh9QKP%2BFb/8Fo/DH/ID/aT%2BB/ijb93/AISXwffWW/6/ZGOPwo9pnEPidZf9uUJ/%2BkyX5B/xDilV/wB04twsv%2BvkKlJ/P2mEt%2BLE/wCHqHie0/5C/wDwTI/afTHX7H8NkuP/AEG4GaX/AIe2%2BHYf%2BQn%2BwF%2B1FZev2r4QOMflcGj/AIT3/gtX4b/5DXwE%2BAviXb1/4R3xTqVnv%2Bn2oHH40H9rT/gqToHHiT/glNbalGv37nQPjTpn6RSR7jR9dxsfirVV64a//pLYf8Qq4vn/ALtnWCq%2BmIwS/wDTk6D/AAE/4fAfCOL/AI//ANlL9oO19ftHwonGPykNH/D479niP/j6%2BBvxsg/67fC67H8iaX/h4r%2B05ov/ACOv/BKr4vwY%2B/8A2FcWWpY%2BnluuaP8Ah7NpWm/L4w/4J/8A7TejY%2B9NdfChni/B0nOfyo/tKovixiX%2BKhJfoH/EIvFWX8GdOp/glgp/%2Bk45P7kJ/wAPmP2W1/13w2%2BLkf8Av/DK9/wo/wCHzv7Jo%2B94K%2BKi/X4aX3/xNL/w%2Bc/ZJsf%2BRs8I/FHQMfe/tj4a36bfrsRqltf%2BC3f/AATMllFtqH7RM2nzHrDqPgzWIiPqTaY/Wj%2B1Y9cxpL1gl%2Bc0J%2BD3jUleOBrSX93COf406s0Q/wDD5z9kzt4L%2BKZ%2Bnw0v/wD4mj/h8z%2Byw3%2Bq%2BHXxaf8A3Phlff4V0ul/8FeP%2BCbWr4%2Byfta%2BHEz0%2B1RXMH/oyJa6HTf%2BClX/AAT%2B1XH2X9sf4dpnp9p8U28P/oxlreONqT%2BHMKT/AO3Yf/LTza/hr4tYb%2BLhK8fXA1v8mec/8Pkv2bm/1Hwc%2BM0v/XP4X3ho/wCHxXwEb/U/s%2B/HKT/c%2BFl1/wDFV7Lp37b/AOxbq%2BP7K/a8%2BF9znoIPH2nOf0mrbsP2kv2ddVx/Zfx88FXOen2fxTaPn8pK3jLGT%2BHG036Qh/8ALWeVW4S4%2Bw/8WNSPrg6i/wDSkj5//wCHwvwUP3P2Z/j03%2B78Krn/AOLo/wCHwnwY/wCjYvj5/wCGpuP/AIuvpqx%2BJXw51TH9meP9Euc9PI1WF8/k1a9teWd6nmWd1HKv96KQMP0raNDNJbYqL/7hx/8AkzzamV8S0f4mJ5fWgl%2BckfJ3/D4X4J9/2aPj0Pr8Krn/AOLpf%2BHwvwT7fs0fHon0Hwquf/i6%2BtKKr6rm/wD0Er/wVH/5Mx%2Bp57/0GR/8Ex/%2BTPkv/h8B8JG/1H7KH7QcvoI/hRPz%2BclJ/wAPdfAsn/Hp%2BxH%2B0rP6eT8I5Tn85hX1rRR9Vzb/AKCl/wCCo/8AyQfUs8/6DF/4Jh/8mfJX/D2rSH5t/wDgnn%2B1RMPWP4PMf53NVPgn%2B1lH%2B1F/wUL8GeX%2Bzd8WPh8ND%2BDPjLn4oeDv7J/tDztW8K/8e371/N2eV8/Tb5kfXdx9gV4z44/5SF/C/wD7Iz48/wDTt4QrWhh8whVUquI5o9vZxjf5pto3w2EzSnWUq2K549Y%2ByhG/zUm1328j2aiiivQPUCvn7/gpcdMH7Ndr/wAJp5f/AAhX/CwvC/8Awsj7R/x7/wDCPf2zafbftWePsfl/8fO7939m8/zP3e%2BvoGigD879R8UfDl/%2BCZnxo8EfDHxPp8Pgqbxxfv8ADu30e4jazsfCk%2BtwW5v/ACEyX0CO5%2B3u4jAhewilSJhGUI8Yk0n4V3Hw9svBOpfEv4JWXgCL9obXZrDx3rng2Kb4PXq/8IlaMkdro7XyQxDz5pY40F%2ByC/tNQmEjyP8AZh%2Bu9FAHhP7EmofEK3/4J0fCu78JeEJrrxFB8MNHjstK8deIZ7d7iVLSJAbq8FpJKu8DfvNtu%2BYZjU5A%2BUv%2BCJ8Hi/xh%2B2H%2B1L4/%2BIGi2NhqehfEDVNCa10zUXvLaCWXxJrl5cxRTyQwtKiysoDtFGWGCUUnA/SOviv/AIIy%2BD30xf2m/HN1Dtm1v9rfx9FG2PvQW2rzIh/77aUfhXnY2m6uKw3ZTcvuhK34s%2Bz4ZxsMDkWdN/FUw8KS/wC38VRcv/JabT8mfalFFFeifGBRRRQAUUUUAFFFFABRRRQAUUUUAFFFFABRRRQAUUUUAFFFFABRRRQAUUUUAFFFFABRRRQAUUUUAFFFFABRRRQAUUUUAFeM/sv/APJb/wBo7/ss1j/6hXhevZq8Z/Zf/wCS3/tHf9lmsf8A1CvC9AHs1FFFABRRRQAUUUUAFFFFABRRRQAUUUUAFFFFABRRRQAUUUUAFFFFAHj3/BQc%2BOR%2Bw58WD8N/7T/tj/hAtT%2Bz/wBib/t2z7O/m/ZvL%2Bfz/K8zy9nz79u35sV82fCLxL8PNO%2BGP7T3hr/gnJr/AIag8O6l4Wmf4K2HgW6t1sLrxLF4dzeHSUhPluElfTTKYAVW5aXfiUy196UUAfG//BMs/s%2BH4x%2BPf%2BGLTpH/AAqf/hW/grzP%2BEc2/Yf%2BEq36z/aXmbOP7R%2Bx/wBkfa9373d5PmfvN9eg3%2BpfFe7/AOCm3guz8beC/D2n6Fb/AAe8cDw1qOleJ57y7v0OreEvMa5tpLKFLQjCYCTXAbccldo3fQ9fOH7R%2Br/GvR/28PhPP8Dvh/4W8Rak3wj8drd2nivxhc6LBHB/anhIl0lt9PvWd920bDGowSd%2BQFIB9H0V4z/wnH/BQv8A6Nf%2BDP8A4fjVv/mXo/4Tj/goX/0a/wDBn/w/Grf/ADL0AezUV4z/AMJx/wAFC/8Ao1/4M/8Ah%2BNW/wDmXo/4Tj/goX/0a/8ABn/w/Grf/MvQB7NRXzjpP7R37dusfGfX/gdb/sofCRdU8O%2BF9I128uX%2BOuqeRJBqNzqVvCiEeGNxdW0ucsCoADx4LEsF6j/hOP8AgoX/ANGv/Bn/AMPxq3/zL0AezUV4z/wnH/BQv/o1/wCDP/h%2BNW/%2BZej/AITj/goX/wBGv/Bn/wAPxq3/AMy9AHs1FeM/8Jx/wUL/AOjX/gz/AOH41b/5l65fwD%2B0d%2B3b8RPFfjfwho/7KHwkhuPAfiiLQtVkufjrqgSeeTStP1MPFt8MElPJ1GFSWCnejjGAGYA%2BjqK8Z/4Tj/goX/0a/wDBn/w/Grf/ADL0f8Jx/wAFC/8Ao1/4M/8Ah%2BNW/wDmXoA9morxn/hOP%2BChf/Rr/wAGf/D8at/8y9H/AAnH/BQv/o1/4M/%2BH41b/wCZegD2aivnH4RftHft2/GXwpd%2BL/Dn7KHwktrez8Ua3oUkd78ddUVzPpeq3WmTuNvhhhsaa0kZDnJRlJCnKjqP%2BE4/4KF/9Gv/AAZ/8Pxq3/zL0AezUV4z/wAJx/wUL/6Nf%2BDP/h%2BNW/8AmXo/4Tj/AIKF/wDRr/wZ/wDD8at/8y9AHs1FeM/8Jx/wUL/6Nf8Agz/4fjVv/mXrl/gj%2B0d%2B3b8ePgx4Q%2BOPhX9lD4SWul%2BM/C%2Bn67pttqHx11RZ4YLu2juI0kCeGGUOFkAYKzDIOCRzQB9HUV4z/wAJx/wUL/6Nf%2BDP/h%2BNW/8AmXo/4Tj/AIKF/wDRr/wZ/wDD8at/8y9AHs1FeM/8Jx/wUL/6Nf8Agz/4fjVv/mXrl/jd%2B0d%2B3b8B/gx4v%2BOPir9lD4SXWl%2BDPC%2Boa7qVtp/x11Rp5oLS2kuJEjD%2BGFUuVjIUMyjJGSBzQB9HVHdWVnfRGC%2BtIpkPVJYwwP4GvHf%2BE4/4KF/9Gv8AwZ/8Pxq3/wAy9H/Ccf8ABQv/AKNf%2BDP/AIfjVv8A5l6NxpuLuj0LVPg58Itcz/bXwr8N3mev2rQ7eTP/AH0hrntS/ZA/ZL1nP9sfsu/Dq7z1%2B0%2BCbCTP/fURrnv%2BE4/4KF/9Gv8AwZ/8Pxq3/wAy9H/Ccf8ABQv/AKNf%2BDP/AIfjVv8A5l6xlhsNP4oRfrFP80z0qGdZ1hf4OKqw/wANWpH/ANJqIfqP/BPD9gvVMm6/Yz%2BGAJ6mDwPYxH/xyIVh6h/wSu/4J2alk3H7IPgtc/8APvpvlf8AoBFUPi7%2B0d%2B3b8GvClp4v8R/sofCS5t7zxRomhRx2Xx11RnE%2Bqara6ZA53eGFGxZruNnOchFYgMcKeo/4Tj/AIKF/wDRr/wZ/wDD8at/8y9c8ssy2fxUIP8A7cj/APInq0eOONsP/DzTEr0xFf8A%2BXM4y%2B/4I5f8E0dRz9o/ZP0Vc/8APDUb6L/0CcVk3P8AwQ//AOCX9w/mp%2BzIIH7PbeMdZjI/AXmK9J/4Tj/goX/0a/8ABn/w/Grf/MvR/wAJx/wUL/6Nf%2BDP/h%2BNW/8AmXrGWSZNLfDU/wDwCP8AkelS8UPEuj8Gd4tf9zNb/wCTZ5l/w5K/4J9wf8gnwB4msPT7H4/1Vcf99XBpP%2BHMX7IkB/4lfij4nWPp9k%2BJN%2BMfm5r07/hOP%2BChf/Rr/wAGf/D8at/8y9cv4%2B/aO/bt%2BHfivwR4Q1j9lD4STXHjzxRLoWlSW3x11QpBPHpWoamXl3eGAQnk6dMoKhjvdBjBLLP9hZL0w8Pkrfk0bf8AEVvEt/FnGIf%2BKpzf%2BlRkcz/w53%2BA8P8AyDf2hPjlZ%2Bn2X4p3Qx%2BamlP/AASL8Axf8eH7an7SVp6fZ/i3KMfnCa9N/wCE4/4KF/8ARr/wZ/8AD8at/wDMvR/wnH/BQv8A6Nf%2BDP8A4fjVv/mXo/sLKP8Anyvvkvymg/4ip4iPfMZv1jRl/wClYaR5j/w6btIv%2BPH/AIKM/tV2/oIvjAcfrbVT%2BCv7Kt5%2BzJ/wUL8FrdftMfFP4irrfwZ8ZbB8TPFQ1M6f5OreFc/ZyI08vzPNG/ru8qPpt59a/wCE4/4KF/8ARr/wZ/8AD8at/wDMvVDwP4H/AGrPGP7Vnhz43fG74cfD3wzo3hn4e%2BIdDhh8K/EO%2B1q6u7rUr7RLhGZLjSLFIo0TS5QWDuxaVAFxkjahlWX4aqqlKFpL%2B9N/g5tfgefmnH3F%2Bd4GeDx2K56c7XXs8Or2aa96GGpzWqW012d1dP3WiiivQPjwooooAKKKKACvB/8Agnb4V0zwx8FfF02nBt%2BqfHj4lX12zY5lbxnrC9uwVFH4V7xXyV%2ByV4s/bO0/4e%2BKLP4Y/AP4YavoSfGn4i/2fqOvfF3UdNu5l/4TPWSxktotAuUiIbcABM%2BQAcgnaE4ptN9C41KkYSgnpK113s7r7nqfWtFeM/8ACcf8FC/%2BjX/gz/4fjVv/AJl6P%2BE4/wCChf8A0a/8Gf8Aw/Grf/MvTIPZqK8Z/wCE4/4KF/8ARr/wZ/8AD8at/wDMvR/wnH/BQv8A6Nf%2BDP8A4fjVv/mXoA9mor5x%2BCP7R37dvx4%2BDHhD44%2BFf2UPhJa6X4z8L6frum22ofHXVFnhgu7aO4jSQJ4YZQ4WQBgrMMg4JHNdR/wnH/BQv/o1/wCDP/h%2BNW/%2BZegD2aivGf8AhOP%2BChf/AEa/8Gf/AA/Grf8AzL0f8Jx/wUL/AOjX/gz/AOH41b/5l6APZqK%2Bcfjd%2B0d%2B3b8B/gx4v%2BOPir9lD4SXWl%2BDPC%2Boa7qVtp/x11Rp5oLS2kuJEjD%2BGFUuVjIUMyjJGSBzXUf8Jx/wUL/6Nf8Agz/4fjVv/mXoA9morxn/AITj/goX/wBGv/Bn/wAPxq3/AMy9H/Ccf8FC/wDo1/4M/wDh%2BNW/%2BZegD2aivGf%2BE4/4KF/9Gv8AwZ/8Pxq3/wAy9cv8Xf2jv27fg14UtPF/iP8AZQ%2BElzb3nijRNCjjsvjrqjOJ9U1W10yBzu8MKNizXcbOc5CKxAY4UgH0dRXjP/Ccf8FC/wDo1/4M/wDh%2BNW/%2BZej/hOP%2BChf/Rr/AMGf/D8at/8AMvQB7NRXjP8AwnH/AAUL/wCjX/gz/wCH41b/AOZej/hOP%2BChf/Rr/wAGf/D8at/8y9AHs1FfOPj79o79u34d%2BK/BHhDWP2UPhJNcePPFEuhaVJbfHXVCkE8elahqZeXd4YBCeTp0ygqGO90GMEsvUf8ACcf8FC/%2BjX/gz/4fjVv/AJl6APZqK8Z/4Tj/AIKF/wDRr/wZ/wDD8at/8y9H/Ccf8FC/%2BjX/AIM/%2BH41b/5l6APZqK8Z/wCE4/4KF/8ARr/wZ/8AD8at/wDMvXL6t%2B0d%2B3bo/wAZ9A%2BB1x%2Byh8JG1TxF4X1fXbO5T466p5EcGnXOm28yOT4Y3B2bVICoCkEJJkqQoYA%2BjqK8Z/4Tj/goX/0a/wDBn/w/Grf/ADL0f8Jx/wAFC/8Ao1/4M/8Ah%2BNW/wDmXoA9morxn/hOP%2BChf/Rr/wAGf/D8at/8y9H/AAnH/BQv/o1/4M/%2BH41b/wCZegD2aivnHSf2jv27dY%2BM%2Bv8AwOt/2UPhIuqeHfC%2Bka7eXL/HXVPIkg1G51K3hRCPDG4uraXOWBUAB48FiWC9R/wnH/BQv/o1/wCDP/h%2BNW/%2BZegD2aivGf8AhOP%2BChf/AEa/8Gf/AA/Grf8AzL0f8Jx/wUL/AOjX/gz/AOH41b/5l6APZqK8Z/4Tj/goX/0a/wDBn/w/Grf/ADL1y/gH9o79u34ieK/G/hDR/wBlD4SQ3HgPxRFoWqyXPx11QJPPJpWn6mHi2%2BGCSnk6jCpLBTvRxjADMAfR1FeM/wDCcf8ABQv/AKNf%2BDP/AIfjVv8A5l6P%2BE4/4KF/9Gv/AAZ/8Pxq3/zL0AezV4z%2By/8A8lv/AGjv%2ByzWP/qFeF6P%2BE4/4KF/9Gv/AAZ/8Pxq3/zL1b/ZW%2BHPxp8H6x8UPHfx00DwvpOqePviFFrlnpXhPxLc6tb2trFoOj6YqvcXFlZs0jSadK5URbQsiDcxzgA9booooAKKKKACiiigAooooAKKKKACiiigAooooAKKKKACiiigAooooAKKKKACvlf9p79rT4ufDD4x%2BLNa8A%2BHfB8nhj4P%2BH/D9741OtaRcTarqlvq9/KlzBYXEdxGll5FtZx3GZIpxcyFIyIfL80/VFeM/Gf9iH4cfG74pH4ma5458VaXFqNrpFr4v8NaNdWqad4pg0u9kvbGK%2BWW3kmCxzTS5%2BzywGWOQxTGWMKgAPZqKKKACiiigD5j8OftK/EyH9v/AMUfB/4jax4e8J%2BG18QWmieDItR%2BEWspdeMYBoEGo4g8RtdrpzSx3dzqAFoIXk8u0mAUFmkX6cryvxZ%2By1B4/wDjJpHxT8e/G/xrq%2BleHtdj1rQPAFwdMi0ax1CO3eCOcNDZJey7PMkkVJrqSMSPu2fIgX1SgAooooA8X/4KC/F344fs/fsj%2BNPj18Ar3wpHrHgnQrvXLqDxhotzfW13aWttLM9uiW11bMkrsiKJC5VAWJR%2BBXn/AI8/a0%2BLngv48eLdT8KeHfCEXw88IfGPwj8PvGVnNpFwdb1XVddg0VI9Qhu0uFhjjg/tzSYzFJbyvIkM%2BJY9qCvYf2sf2cbL9rT4Ea9%2Bz7rXxV8U%2BEdJ8T2Utjrl/wCEF077Xc2UsTxTW26/tLqNEdX5ZEWQFRtdec8XB%2BwD4On%2BItn8RfFXxx8fa6x1nSdc8TaNqEulRWPifXNMSNLHVr2O2sImW4iEFphbZoIGNjbF4mMeSAe90UUUAFeL/tk/F344fBK18A%2BMfhZe%2BFP7G1D4meHPD3i%2Bx8QaLc3N1c2uq6zY6aDZyw3UKW0ka3Msm%2BRJ1JRF2ck17RXlX7V37Lb/ALVXhvQvC8/x98b%2BBrfQvElhrqN4Lh0dnu72xvILyzaU6lp94NsVxbxuFjCBuVk3qdoAPOP2ef2lfiZrf7VXi34I/FDV/D3hPTofFOt2/gnwlJ8ItZ0y5162hdJTf2%2BtXF39g1B2Mk0ssVtAX5LsVwxP05Xkuk/soh/jJovxl%2BI/7QHjvxrN4Xu7y78J6F4hGkw2Gj3VzbyWslxEthp9tLK/2eaeFfPklVFnfaASCPWqACiiigDw/wDbu%2BLnx4/Z%2B%2BDWr/HX4UeMfAtjp/hbRbm8vdF8WeGb2/ufEN7lFs9Ms5La9g%2BzzXEpFujeVdM0s8QWFj8ref8AwR/a%2B%2BM%2BufEvwV/a3gzwlpHw08b/ABP8UfDbwr4a07S5o9X0S/0CHVt889yLhreaCRvD%2BposMdvEY1a2PmSZYD0/9pX9kGD9pLx54I%2BIE37QPjvwhc%2BAbu5vdFsfDEWjT2cl7KgjW8mg1PTrxHnhj8xYZAFMYnlI%2BZsir4D/AGGvh74D%2BMtv8XYfiL4u1KDTtd1PXtE8Ialc2X9k6VreoxvHqGqQJFapP584nuyyvM8KNfXJjij8zgA9rooooAK%2BX/2ufjx%2B0v8ABb4iaf4U0qHwB410fxzDrVtovw5i8H30msJa2mh3V3Jf3E4vXiurYXUVvbSQi1iB%2B3woJjIyJJ9QV4dN%2BxNcR/tH%2BK/2mtE/ar%2BJenav4t02HTrnS4YPD89pp9nDA0cNtZtc6TLc28Syu91sWba87l3Dg7aAGfsIftB%2BN/j38Pby6%2BK/j7Rr7xdpws21/wAN2Xwu1fwjeaA89ssogubLV7qe4cFt/l3ACRyKh2htpNe6V5v8Dv2btO%2BDPifxJ8Q9Y%2BKXinxx4q8VxWNvrHifxc1gty9pZib7LapFp9ra20cUbXNy42whma4kLM2Rj0igAooooA%2BOf%2BCgn7cfxU/Yw8c/2nrmi6B4x8Ivo2o63b%2BFZfhzqdlLbppujX2pJJ/wkU10%2BmT3f2vTRssVgS6EcyygbYWkb179mj4u/HPVvip43/Z6/aOufCmoeJ/COk6HrUeteCtIubCxubHVBeRpEYLm5uXWWK4067Uv5uJEMTbIySorfHX9hLwR%2B05rV1a/H/4t%2BNfFHgu5kuJF%2BGV5JpsOixSTWM1kzb7eyjvpAI7iZgkt06B33bfkQL0/7Pn7M2kfAO817xFd/FDxZ448R%2BJDZx6t4q8a3Fm99LbWkRitbUfY7a3hWKIPKwxHvZ55XdnZyaAPSqKKKACviP8Aan/bK/az%2BDfxq8QfCjwd4b8OeNdTsNFuNd8MBPgf4gjk0UDUdMtUMLfbnHiaQWOqXHnf2X5TwtCVlEYmEdfbleH69%2BxbqfiXx6fidrX7XPxRm1vT4LyLwbeFNAA8KrdTQyT/AGSMaTsnZo4Ft916t0yxM4Uq7s5AOq/ZY%2BLD/GT4RweLL34maN4qv4dRurLVL7RvBl94dFtcRSsrWs2m6hcT3VnPGMK8czh8/NtUMBXo1cN8A/gL4e%2BAHhnU9G0rxTrfiDUdf1641vxJ4k8RzQNe6rfzBEaeUW8UMCYjihiVIYo41SJAFGCT3NABRRRQAUUUUAFFFFABRRRQBR8UeIbDwl4a1HxXqoc2umWM13ciJct5caF2wO5wpr5z/Ym/aT%2BNfj/xTo/gz42eHvBlmPHXwtsviN4Zh8GaVcWg0yO8uCbvT7szXEou5o3ubZ/tiCATtLMTBHtBf6Wu7S1v7WWxvbdJoZo2jmilUMrqRgqQeCCOMV5D%2BzN%2BxX4C/Zg1V9X0D4g%2BLfEstt4YsfDPh0eLL21mGgaFZvI9vptqbe3hLRqZPmlnM1xII4vMmfy1wAexUUUUAFcL%2B1B48%2BIvws/Zo%2BInxO%2BD/hRde8W%2BHPAur6p4W0NrGa6Go6jb2csttbGGBllmEkqInlxsHbdhSCQa7qs7xbol/wCJfDGoeH9L8V6joVze2kkNvrWkLA11YuykCaIXEUsRdTyBJG6ZHzKwyCAeXfsU/Fqf4ofDO%2BstW%2BIXh/WdT8O6qunXmmaJ8MNT8HPoaC2gkis7jStUuZ7mFwjiRXby0eKWLYmBvf2KvPPgP%2BztpPwOvPEviO5%2BIniTxj4k8X6jDeeIvFPit7MXd0YbdLeCIR2NtbW0UUcaAKscKZLOzFmZmPodABRRRQB8uftUftY/FD9nD4veOLL4laN4S8RfC%2Bw/Z38X%2BPbbQrfRLhNVdtEGlrPbXFzJcvbzRTrfTgILZCoRMu%2BWFdv%2BzP8AF/4%2Bap8XPGX7Ov7Sz%2BErzxR4Y8MeHvEseq%2BCtJubGykstWfUrdbYw3NzcuZYbjSLsGUSBZEeJvLjO5ag%2BMf7Cvh346fHVvjL48%2BO3jmXTZvBWp%2BEb74ewwaL/Yl3o2pLbfb7SQvprXpE7WkDs4ug6lCEZEZkPSfs7/su6H%2Bz7fa14jn%2BKHi3xv4h1%2B1sLK/8T%2BNrm0kvTYWKSLZ2Y%2ByW1vH5URnuHBKGR3uZXd3Zs0Aen0UUUAFfInxr/aX/AGtvBmu/tAeBLfwr4M8WXvgLw/4U8SfDax0n4f6nfzrHqOq6lCEvLWK8eXUZ4F02OdTbC3JckKvyq1fXdeFy/sUeIYvjp42%2BP%2BhftofFbStW8b6RY6Zc2NlZ%2BGGtNNtrK4uZ7NLYS6K8n7o3l0oMzyl1nIk8wqhUA6v9lT4tzfGX4UjxNqPxO0bxTqNrqtzY6tdaP4Iv/DZs7iJvmtZ9M1G4nurSdFK7kmYMQyttVWFek1wnwD%2BAegfAHQtZsdP8W654j1XxN4gl1zxP4m8SS27Xuq38kMMHmyC2hhgjCwW9vCqRRRoqQoAuck93QAUUUUAfG37S37Xf7S37PHxmg%2BG2sp8M/Gt9rcEE3hGHTvC17aS%2BC7zUvEOmeHtIm1OV76YXUU7avOC0S2cjixuljDL5hi9x/ZV%2BL/xI%2BIw8f/D74xHRJ/FXw08eN4a1nVfDWnTWdhqfmaXp2rW9xDbzTzyW%2BbXVLdHjaaXEkcmGIIxwtt/wTV8JNdfEN/EP7S/xO1m3%2BJOvHXNYt9SOheZZ6lFcQz6fc211FpaXSmwe3txaRvNJFEsKBkfnPrHwD%2BAuh/APw9q2m2Xi/XPEmreItem1rxP4o8SvbG/1e%2Bkjih86YWsEEC7IILeBEiijRY4I1C8EkA7qiiigBlz9p%2BzSfY9nnbD5Xm527scZxzjNfEHxW/a5/bT%2BGnxE1z4bW9t4D8Z694YvfDVvq3jrwR8Fdf1aPw5b6s1497YS6VZ6lPd3M0cNlY3RMU6fu7qFpYEBiaT7eu4ZLi1lt4bqSB5I2VZ4gpeMkYDLuBXI6jII9Qa%2Be/gx%2BwF4g%2BAnw2uPhp8O/wBur4xRR3WrPqc2s3ll4Tn1CW7leWS5nmmfQj9pkneXdJJOJHzGmwoBggHrPwE%2BIdl8Vvg74f8AiFYfEDRvFSanp4kfX/D%2BkzWFpdyAlZClrPNNLbFXVkaGSR3jZWVjuUgdfXJfAv4L%2BEv2ffhfp3wp8FXN/cWVhLdXE19qtyJrq%2Bu7q5lurq6mcKoaWa4nmlfaqrukO1VXCjraACqPieHxJc%2BG9Qt/Bup2Nlq8llKul3mp2D3VtBcFCI5JYY5YmmjVsFkWSMsAQHUncL1ZvjHQb/xR4Wv/AA7pfi3UtBuby1eKDWtHEBurFyOJohcRSxF1PIEkbocfMrDIoA%2BHvhv%2B3Z%2B1r8YPinrfwS%2BFmm/D5PGem2uu30njPxX8Lta0NdU0zSLXRZUsZdEvL5NQ0%2BV7vxDsSaeZ4/KhkuEhdZ0B%2BxvgF8WtN%2BPnwJ8FfHXRtNls7Pxr4S03XrSzmfc8EV5ax3CxsQBkqJACfUV4tq//AATI8D61rl98Rbv9pT4pp8QNWS8tda%2BJNte6RDq1/pl1bWttNphRNNFnDbFLK0YeRbRSrJAsqyhyzH6D8F%2BD/DXw88HaT4A8GaTFp%2Bj6HpkGn6TYQ52W1tDGscUa55wqKqj6UAadFFFAHL/GnUfHGjfC3Wtb%2BHPiGx0vVrCzN1Dfah4PvfECJHGQ8oGnWM8FzeSNErqkUMgcuy4Vz8jfFvwl/wCCiPx%2B8SeNND1PxvceEfAngzUp518QeOLz4GeIprbWL%2BHX7rSES5lW%2BjTwzPJa2lr%2B41RpJYHlWN87AlfbfxM8Ga7498JTeHPDfxS1/wAG3kksbxa/4ZisXu4NrAlVW/trmBgwBUh4m4Jxg4I8Vuv%2BCc3hTUPB9x8NtW/aQ%2BJt34Y1zUJr/wAeaBNcaOIvGF3PeNdXE19Kumi4i80ssLR2ctrEIYkjVFG7cAfRNFFFABRRRQAUUUUAFFFFABRRRQAUUUUAFFFFABRRRQAUUUUAFFFFABRRRQAUUUUAFFFFABRRRQAUUUUAFFFFABRRRQAUUUUAFFFFABRRRQAUUUUAFFFFABRRRQAUUUUAFFFFABRRRQAUUUUAFFFFABRRRQAUUUUAFFFFABRRRQAUUUUAFFFFABRRRQAUUUUAFFFFABRRRQAUUUUAFFFFABRRRQAUUUUAFFFFABRRRQAUUUUAFFFFABRRRQAUUUUAFFFFABRRRQAUUUUAFFFFABRRRQAUUUUAFFFFABRRRQAUUUUAFFFFABRRRQAUUUUAFFFFAH//2Q%3D%3D\">"
            ]
          },
          "metadata": {
            "tags": []
          }
        }
      ]
    },
    {
      "cell_type": "markdown",
      "metadata": {
        "id": "BM1j7nVJ0slA"
      },
      "source": [
        "# Submit a linear model"
      ]
    },
    {
      "cell_type": "code",
      "metadata": {
        "id": "sko2gMsj0slB"
      },
      "source": [
        "## GRADED PART, DO NOT CHANGE!\n",
        "# Testing shapes \n",
        "grader.set_answer(\"9XaAS\", grading_utils.get_tensors_shapes_string([W, b, input_X, input_y, logits, probas, classes]))\n",
        "# Validation loss\n",
        "grader.set_answer(\"vmogZ\", s.run(loss, {input_X: X_val_flat, input_y: y_val_oh}))\n",
        "# Validation accuracy\n",
        "grader.set_answer(\"RMv95\", accuracy_score(y_val, s.run(classes, {input_X: X_val_flat})))"
      ],
      "execution_count": null,
      "outputs": []
    },
    {
      "cell_type": "code",
      "metadata": {
        "id": "a1Y0B-dc0slB",
        "colab": {
          "base_uri": "https://localhost:8080/"
        },
        "outputId": "6de661b4-eb75-4cb1-9f9e-4f14d28e7676"
      },
      "source": [
        "# you can make submission with answers so far to check yourself at this stage\n",
        "grader.submit(COURSERA_EMAIL, COURSERA_TOKEN)"
      ],
      "execution_count": null,
      "outputs": [
        {
          "output_type": "stream",
          "text": [
            "Submitted to Coursera platform. See results on assignment page!\n"
          ],
          "name": "stdout"
        }
      ]
    },
    {
      "cell_type": "markdown",
      "metadata": {
        "id": "KN7yP7-_0slB"
      },
      "source": [
        "# MLP with hidden layers"
      ]
    },
    {
      "cell_type": "markdown",
      "metadata": {
        "id": "IvTfG-b_0slB"
      },
      "source": [
        "Previously we've coded a dense layer with matrix multiplication by hand. \n",
        "But this is not convenient, you have to create a lot of variables and your code becomes a mess. \n",
        "In TensorFlow there's an easier way to make a dense layer:\n",
        "```python\n",
        "hidden1 = tf.layers.dense(inputs, 256, activation=tf.nn.sigmoid)\n",
        "```\n",
        "\n",
        "That will create all the necessary variables automatically.\n",
        "Here you can also choose an activation function (remember that we need it for a hidden layer!).\n",
        "\n",
        "Now define the MLP with 2 hidden layers and restart training with the cell above.\n",
        "\n",
        "You're aiming for ~0.97 validation accuracy here."
      ]
    },
    {
      "cell_type": "code",
      "metadata": {
        "id": "DzkVro_50slB"
      },
      "source": [
        "# write the code here to get a new `step` operation and then run the cell with training loop above.\n",
        "# name your variables in the same way (e.g. logits, probas, classes, etc) for safety.\n",
        "\n",
        "hidden1 = tf.layers.dense(input_X, 256, activation=tf.nn.sigmoid)\n",
        "hidden2 = tf.layers.dense(hidden1, 256, activation=tf.nn.sigmoid)\n",
        "logits =  tf.layers.dense(hidden2, 10)\n",
        "\n",
        "probas = tf.nn.softmax(logits) # apply tf.nn.softmax to logits\n",
        "classes =  tf.argmax(probas, axis=1)    # apply tf.argmax to find a class index with highest probability\n",
        "\n",
        "# Loss should be a scalar number: average loss over all the objects with tf.reduce_mean().\n",
        "# Use tf.nn.softmax_cross_entropy_with_logits on top of one-hot encoded input_y and logits.\n",
        "# It is identical to calculating cross-entropy on top of probas, but is more numerically friendly (read the docs).\n",
        "loss = tf.reduce_mean(tf.nn.softmax_cross_entropy_with_logits(labels=input_y, logits=logits))     # cross-entropy loss\n",
        "\n",
        "# Use a default tf.train.AdamOptimizer to get an SGD step\n",
        "step = tf.train.AdamOptimizer().minimize(loss)"
      ],
      "execution_count": null,
      "outputs": []
    },
    {
      "cell_type": "markdown",
      "metadata": {
        "id": "5q5JB4ND0slC"
      },
      "source": [
        "# Submit the MLP with 2 hidden layers\n",
        "Run these cells after training the MLP with 2 hidden layers"
      ]
    },
    {
      "cell_type": "code",
      "metadata": {
        "id": "qPZBcjfH0slC"
      },
      "source": [
        "## GRADED PART, DO NOT CHANGE!\n",
        "# Validation loss for MLP\n",
        "grader.set_answer(\"i8bgs\", s.run(loss, {input_X: X_val_flat, input_y: y_val_oh}))\n",
        "# Validation accuracy for MLP\n",
        "grader.set_answer(\"rE763\", accuracy_score(y_val, s.run(classes, {input_X: X_val_flat})))"
      ],
      "execution_count": null,
      "outputs": []
    },
    {
      "cell_type": "code",
      "metadata": {
        "id": "RYZeqOMP0slC",
        "colab": {
          "base_uri": "https://localhost:8080/"
        },
        "outputId": "4c551c74-12d0-4de8-e7ef-291086e3d00f"
      },
      "source": [
        "# you can make submission with answers so far to check yourself at this stage\n",
        "grader.submit(COURSERA_EMAIL, COURSERA_TOKEN)"
      ],
      "execution_count": null,
      "outputs": [
        {
          "output_type": "stream",
          "text": [
            "Submitted to Coursera platform. See results on assignment page!\n"
          ],
          "name": "stdout"
        }
      ]
    },
    {
      "cell_type": "code",
      "metadata": {
        "id": "k2_3zNHS0slC"
      },
      "source": [
        ""
      ],
      "execution_count": null,
      "outputs": []
    }
  ]
}